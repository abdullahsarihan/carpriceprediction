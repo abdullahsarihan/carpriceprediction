{
 "cells": [
  {
   "cell_type": "code",
   "execution_count": 1,
   "id": "624e9967",
   "metadata": {
    "scrolled": true
   },
   "outputs": [
    {
     "name": "stdout",
     "output_type": "stream",
     "text": [
      "Sayfa 1: 0 adet veri çekildi.\n",
      "Sayfa 2: 20 adet veri çekildi.\n",
      "Sayfa 3: 40 adet veri çekildi.\n",
      "Sayfa 4: 60 adet veri çekildi.\n",
      "Sayfa 5: 80 adet veri çekildi.\n",
      "Sayfa 6: 100 adet veri çekildi.\n",
      "Sayfa 7: 120 adet veri çekildi.\n",
      "Sayfa 8: 140 adet veri çekildi.\n",
      "Sayfa 9: 160 adet veri çekildi.\n",
      "Sayfa 10: 180 adet veri çekildi.\n",
      "Sayfa 11: 200 adet veri çekildi.\n",
      "Sayfa 12: 220 adet veri çekildi.\n",
      "Sayfa 13: 240 adet veri çekildi.\n",
      "Sayfa 14: 260 adet veri çekildi.\n",
      "Sayfa 15: 280 adet veri çekildi.\n",
      "Sayfa 16: 300 adet veri çekildi.\n",
      "Sayfa 17: 320 adet veri çekildi.\n",
      "Sayfa 18: 340 adet veri çekildi.\n",
      "Sayfa 19: 360 adet veri çekildi.\n",
      "Sayfa 20: 380 adet veri çekildi.\n",
      "Sayfa 21: 400 adet veri çekildi.\n",
      "Sayfa 22: 420 adet veri çekildi.\n",
      "Sayfa 23: 440 adet veri çekildi.\n",
      "Sayfa 24: 460 adet veri çekildi.\n",
      "Sayfa 25: 480 adet veri çekildi.\n",
      "Sayfa 26: 500 adet veri çekildi.\n",
      "Sayfa 27: 520 adet veri çekildi.\n",
      "Sayfa 28: 540 adet veri çekildi.\n",
      "Sayfa 29: 560 adet veri çekildi.\n",
      "Sayfa 30: 580 adet veri çekildi.\n",
      "Sayfa 31: 600 adet veri çekildi.\n",
      "Sayfa 32: 620 adet veri çekildi.\n",
      "Sayfa 33: 640 adet veri çekildi.\n",
      "Sayfa 34: 660 adet veri çekildi.\n",
      "Sayfa 35: 680 adet veri çekildi.\n",
      "Sayfa 36: 693 adet veri çekildi.\n"
     ]
    },
    {
     "data": {
      "text/html": [
       "<div>\n",
       "<style scoped>\n",
       "    .dataframe tbody tr th:only-of-type {\n",
       "        vertical-align: middle;\n",
       "    }\n",
       "\n",
       "    .dataframe tbody tr th {\n",
       "        vertical-align: top;\n",
       "    }\n",
       "\n",
       "    .dataframe thead th {\n",
       "        text-align: right;\n",
       "    }\n",
       "</style>\n",
       "<table border=\"1\" class=\"dataframe\">\n",
       "  <thead>\n",
       "    <tr style=\"text-align: right;\">\n",
       "      <th></th>\n",
       "      <th>fiyat</th>\n",
       "      <th>marka</th>\n",
       "      <th>seri</th>\n",
       "      <th>model</th>\n",
       "      <th>yil</th>\n",
       "      <th>km</th>\n",
       "      <th>vites</th>\n",
       "      <th>yakit</th>\n",
       "      <th>kasa</th>\n",
       "      <th>renk</th>\n",
       "      <th>motorHacmi</th>\n",
       "      <th>motorGucu</th>\n",
       "      <th>cekis</th>\n",
       "      <th>yakitTuketimi</th>\n",
       "      <th>yakitDeposu</th>\n",
       "      <th>boyaDegisen</th>\n",
       "      <th>takas</th>\n",
       "      <th>kimden</th>\n",
       "    </tr>\n",
       "  </thead>\n",
       "  <tbody>\n",
       "    <tr>\n",
       "      <th>0</th>\n",
       "      <td>525.000 TL</td>\n",
       "      <td>Fiat</td>\n",
       "      <td>Punto</td>\n",
       "      <td>Grande 1.4 Fire Active</td>\n",
       "      <td>2007</td>\n",
       "      <td>62.000 km</td>\n",
       "      <td>Yarı Otomatik</td>\n",
       "      <td>Benzin</td>\n",
       "      <td>Hatchback/3</td>\n",
       "      <td>Kırmızı</td>\n",
       "      <td>1368 cc</td>\n",
       "      <td>77 hp</td>\n",
       "      <td>Önden Çekiş</td>\n",
       "      <td>6,1 lt</td>\n",
       "      <td>45 lt</td>\n",
       "      <td>Belirtilmemiş</td>\n",
       "      <td>Takasa Uygun</td>\n",
       "      <td>Galeriden</td>\n",
       "    </tr>\n",
       "    <tr>\n",
       "      <th>1</th>\n",
       "      <td>595.000 TL</td>\n",
       "      <td>Fiat</td>\n",
       "      <td>Punto</td>\n",
       "      <td>EVO 1.4 Dynamic</td>\n",
       "      <td>2012</td>\n",
       "      <td>115.000 km</td>\n",
       "      <td>Düz</td>\n",
       "      <td>LPG &amp; Benzin</td>\n",
       "      <td>Hatchback/5</td>\n",
       "      <td>Beyaz</td>\n",
       "      <td>1368 cc</td>\n",
       "      <td>77 hp</td>\n",
       "      <td>Önden Çekiş</td>\n",
       "      <td>5,9 lt</td>\n",
       "      <td>45 lt</td>\n",
       "      <td>8 boyalı</td>\n",
       "      <td>Takasa Uygun</td>\n",
       "      <td>Galeriden</td>\n",
       "    </tr>\n",
       "    <tr>\n",
       "      <th>2</th>\n",
       "      <td>505.000 TL</td>\n",
       "      <td>Fiat</td>\n",
       "      <td>Punto</td>\n",
       "      <td>Grande 1.4 Fire S&amp;S</td>\n",
       "      <td>2011</td>\n",
       "      <td>50.000 km</td>\n",
       "      <td>Düz</td>\n",
       "      <td>Benzin</td>\n",
       "      <td>Hatchback/5</td>\n",
       "      <td>Beyaz</td>\n",
       "      <td>1368 cc</td>\n",
       "      <td>77 hp</td>\n",
       "      <td>Önden Çekiş</td>\n",
       "      <td>6,1 lt</td>\n",
       "      <td>45 lt</td>\n",
       "      <td>Belirtilmemiş</td>\n",
       "      <td>Takasa Uygun Değil</td>\n",
       "      <td>Galeriden</td>\n",
       "    </tr>\n",
       "    <tr>\n",
       "      <th>3</th>\n",
       "      <td>475.000 TL</td>\n",
       "      <td>Fiat</td>\n",
       "      <td>Punto</td>\n",
       "      <td>1.3 Multijet Pop</td>\n",
       "      <td>2013</td>\n",
       "      <td>150.000 km</td>\n",
       "      <td>Düz</td>\n",
       "      <td>Dizel</td>\n",
       "      <td>Hatchback/5</td>\n",
       "      <td>Beyaz</td>\n",
       "      <td>1248 cc</td>\n",
       "      <td>75 hp</td>\n",
       "      <td>Önden Çekiş</td>\n",
       "      <td>4,2 lt</td>\n",
       "      <td>45 lt</td>\n",
       "      <td>Belirtilmemiş</td>\n",
       "      <td>Takasa Uygun Değil</td>\n",
       "      <td>Galeriden</td>\n",
       "    </tr>\n",
       "    <tr>\n",
       "      <th>4</th>\n",
       "      <td>&lt;div class=\"price-discount\" data-testid=\"desk...</td>\n",
       "      <td>Fiat</td>\n",
       "      <td>Punto</td>\n",
       "      <td>EVO 1.3 Multijet Dynamic</td>\n",
       "      <td>2011</td>\n",
       "      <td>275.000 km</td>\n",
       "      <td>Düz</td>\n",
       "      <td>Dizel</td>\n",
       "      <td>Hatchback/5</td>\n",
       "      <td>Mavi</td>\n",
       "      <td>1248 cc</td>\n",
       "      <td>95 hp</td>\n",
       "      <td>Önden Çekiş</td>\n",
       "      <td>4,2 lt</td>\n",
       "      <td>45 lt</td>\n",
       "      <td>2 değişen, 4 boyalı</td>\n",
       "      <td>Takasa Uygun Değil</td>\n",
       "      <td>Galeriden</td>\n",
       "    </tr>\n",
       "    <tr>\n",
       "      <th>...</th>\n",
       "      <td>...</td>\n",
       "      <td>...</td>\n",
       "      <td>...</td>\n",
       "      <td>...</td>\n",
       "      <td>...</td>\n",
       "      <td>...</td>\n",
       "      <td>...</td>\n",
       "      <td>...</td>\n",
       "      <td>...</td>\n",
       "      <td>...</td>\n",
       "      <td>...</td>\n",
       "      <td>...</td>\n",
       "      <td>...</td>\n",
       "      <td>...</td>\n",
       "      <td>...</td>\n",
       "      <td>...</td>\n",
       "      <td>...</td>\n",
       "      <td>...</td>\n",
       "    </tr>\n",
       "    <tr>\n",
       "      <th>688</th>\n",
       "      <td>535.000 TL</td>\n",
       "      <td>Fiat</td>\n",
       "      <td>Punto</td>\n",
       "      <td>1.2 Pop</td>\n",
       "      <td>2013</td>\n",
       "      <td>139.250 km</td>\n",
       "      <td>Düz</td>\n",
       "      <td>Benzin</td>\n",
       "      <td>Hatchback/5</td>\n",
       "      <td>Beyaz</td>\n",
       "      <td>1242 cc</td>\n",
       "      <td>69 hp</td>\n",
       "      <td>Önden Çekiş</td>\n",
       "      <td>5,2 lt</td>\n",
       "      <td>45 lt</td>\n",
       "      <td>Tamamı orjinal</td>\n",
       "      <td>Sahibinden</td>\n",
       "      <td>-</td>\n",
       "    </tr>\n",
       "    <tr>\n",
       "      <th>689</th>\n",
       "      <td>600.000 TL</td>\n",
       "      <td>Fiat</td>\n",
       "      <td>Punto</td>\n",
       "      <td>EVO 1.3 Multijet Dynamic</td>\n",
       "      <td>2012</td>\n",
       "      <td>80.000 km</td>\n",
       "      <td>Düz</td>\n",
       "      <td>Dizel</td>\n",
       "      <td>Hatchback/5</td>\n",
       "      <td>1248 cc</td>\n",
       "      <td>75 hp</td>\n",
       "      <td>Önden Çekiş</td>\n",
       "      <td>4,1 lt</td>\n",
       "      <td>45 lt</td>\n",
       "      <td>1 değişen, 1 boyalı</td>\n",
       "      <td>Takasa Uygun</td>\n",
       "      <td>Sahibinden</td>\n",
       "      <td>-</td>\n",
       "    </tr>\n",
       "    <tr>\n",
       "      <th>690</th>\n",
       "      <td>440.000 TL</td>\n",
       "      <td>Fiat</td>\n",
       "      <td>Punto</td>\n",
       "      <td>Grande 1.4 Fire Dynamic</td>\n",
       "      <td>2007</td>\n",
       "      <td>136.000 km</td>\n",
       "      <td>Yarı Otomatik</td>\n",
       "      <td>Benzin</td>\n",
       "      <td>Hatchback/5</td>\n",
       "      <td>Gri (titanyum)</td>\n",
       "      <td>1368 cc</td>\n",
       "      <td>77 hp</td>\n",
       "      <td>Önden Çekiş</td>\n",
       "      <td>6,1 lt</td>\n",
       "      <td>45 lt</td>\n",
       "      <td>3 boyalı</td>\n",
       "      <td>-</td>\n",
       "      <td>Sahibinden</td>\n",
       "    </tr>\n",
       "    <tr>\n",
       "      <th>691</th>\n",
       "      <td>388.000 TL</td>\n",
       "      <td>Fiat</td>\n",
       "      <td>Punto</td>\n",
       "      <td>Grande 1.4 Fire Active</td>\n",
       "      <td>2006</td>\n",
       "      <td>162.000 km</td>\n",
       "      <td>Düz</td>\n",
       "      <td>LPG &amp; Benzin</td>\n",
       "      <td>Hatchback/5</td>\n",
       "      <td>Siyah</td>\n",
       "      <td>1368 cc</td>\n",
       "      <td>77 hp</td>\n",
       "      <td>Önden Çekiş</td>\n",
       "      <td>5,9 lt</td>\n",
       "      <td>45 lt</td>\n",
       "      <td>1 boyalı</td>\n",
       "      <td>Takasa Uygun Değil</td>\n",
       "      <td>Sahibinden</td>\n",
       "    </tr>\n",
       "    <tr>\n",
       "      <th>692</th>\n",
       "      <td>475.000 TL</td>\n",
       "      <td>Fiat</td>\n",
       "      <td>Punto</td>\n",
       "      <td>1.3 Multijet Lounge</td>\n",
       "      <td>2012</td>\n",
       "      <td>121.900 km</td>\n",
       "      <td>Düz</td>\n",
       "      <td>Dizel</td>\n",
       "      <td>Hatchback/5</td>\n",
       "      <td>Beyaz</td>\n",
       "      <td>1248 cc</td>\n",
       "      <td>75 hp</td>\n",
       "      <td>Önden Çekiş</td>\n",
       "      <td>4,2 lt</td>\n",
       "      <td>45 lt</td>\n",
       "      <td>2 değişen</td>\n",
       "      <td>-</td>\n",
       "      <td>Sahibinden</td>\n",
       "    </tr>\n",
       "  </tbody>\n",
       "</table>\n",
       "<p>693 rows × 18 columns</p>\n",
       "</div>"
      ],
      "text/plain": [
       "                                                 fiyat marka   seri  \\\n",
       "0                                           525.000 TL  Fiat  Punto   \n",
       "1                                           595.000 TL  Fiat  Punto   \n",
       "2                                           505.000 TL  Fiat  Punto   \n",
       "3                                           475.000 TL  Fiat  Punto   \n",
       "4     <div class=\"price-discount\" data-testid=\"desk...  Fiat  Punto   \n",
       "..                                                 ...   ...    ...   \n",
       "688                                         535.000 TL  Fiat  Punto   \n",
       "689                                         600.000 TL  Fiat  Punto   \n",
       "690                                         440.000 TL  Fiat  Punto   \n",
       "691                                         388.000 TL  Fiat  Punto   \n",
       "692                                         475.000 TL  Fiat  Punto   \n",
       "\n",
       "                        model   yil          km          vites         yakit  \\\n",
       "0      Grande 1.4 Fire Active  2007   62.000 km  Yarı Otomatik        Benzin   \n",
       "1             EVO 1.4 Dynamic  2012  115.000 km            Düz  LPG & Benzin   \n",
       "2         Grande 1.4 Fire S&S  2011   50.000 km            Düz        Benzin   \n",
       "3            1.3 Multijet Pop  2013  150.000 km            Düz         Dizel   \n",
       "4    EVO 1.3 Multijet Dynamic  2011  275.000 km            Düz         Dizel   \n",
       "..                        ...   ...         ...            ...           ...   \n",
       "688                   1.2 Pop  2013  139.250 km            Düz        Benzin   \n",
       "689  EVO 1.3 Multijet Dynamic  2012   80.000 km            Düz         Dizel   \n",
       "690   Grande 1.4 Fire Dynamic  2007  136.000 km  Yarı Otomatik        Benzin   \n",
       "691    Grande 1.4 Fire Active  2006  162.000 km            Düz  LPG & Benzin   \n",
       "692       1.3 Multijet Lounge  2012  121.900 km            Düz         Dizel   \n",
       "\n",
       "            kasa            renk motorHacmi    motorGucu        cekis  \\\n",
       "0    Hatchback/3         Kırmızı    1368 cc        77 hp  Önden Çekiş   \n",
       "1    Hatchback/5           Beyaz    1368 cc        77 hp  Önden Çekiş   \n",
       "2    Hatchback/5           Beyaz    1368 cc        77 hp  Önden Çekiş   \n",
       "3    Hatchback/5           Beyaz    1248 cc        75 hp  Önden Çekiş   \n",
       "4    Hatchback/5            Mavi    1248 cc        95 hp  Önden Çekiş   \n",
       "..           ...             ...        ...          ...          ...   \n",
       "688  Hatchback/5           Beyaz    1242 cc        69 hp  Önden Çekiş   \n",
       "689  Hatchback/5         1248 cc      75 hp  Önden Çekiş       4,1 lt   \n",
       "690  Hatchback/5  Gri (titanyum)    1368 cc        77 hp  Önden Çekiş   \n",
       "691  Hatchback/5           Siyah    1368 cc        77 hp  Önden Çekiş   \n",
       "692  Hatchback/5           Beyaz    1248 cc        75 hp  Önden Çekiş   \n",
       "\n",
       "    yakitTuketimi            yakitDeposu            boyaDegisen  \\\n",
       "0          6,1 lt                  45 lt          Belirtilmemiş   \n",
       "1          5,9 lt                  45 lt              8 boyalı    \n",
       "2          6,1 lt                  45 lt          Belirtilmemiş   \n",
       "3          4,2 lt                  45 lt          Belirtilmemiş   \n",
       "4          4,2 lt                  45 lt   2 değişen, 4 boyalı    \n",
       "..            ...                    ...                    ...   \n",
       "688        5,2 lt                  45 lt        Tamamı orjinal    \n",
       "689         45 lt   1 değişen, 1 boyalı            Takasa Uygun   \n",
       "690        6,1 lt                  45 lt              3 boyalı    \n",
       "691        5,9 lt                  45 lt              1 boyalı    \n",
       "692        4,2 lt                  45 lt             2 değişen    \n",
       "\n",
       "                  takas      kimden  \n",
       "0          Takasa Uygun   Galeriden  \n",
       "1          Takasa Uygun   Galeriden  \n",
       "2    Takasa Uygun Değil   Galeriden  \n",
       "3    Takasa Uygun Değil   Galeriden  \n",
       "4    Takasa Uygun Değil   Galeriden  \n",
       "..                  ...         ...  \n",
       "688          Sahibinden           -  \n",
       "689          Sahibinden           -  \n",
       "690                   -  Sahibinden  \n",
       "691  Takasa Uygun Değil  Sahibinden  \n",
       "692                   -  Sahibinden  \n",
       "\n",
       "[693 rows x 18 columns]"
      ]
     },
     "execution_count": 1,
     "metadata": {},
     "output_type": "execute_result"
    }
   ],
   "source": [
    "import requests\n",
    "from bs4 import BeautifulSoup\n",
    "import pandas as pd\n",
    "import time\n",
    "\n",
    "sayac = 0\n",
    "fiyat, marka, seri, model, yil, km, vites, yakit, kasa, renk, motorHacmi, motorGucu, cekis, yakitTuketimi, yakitDeposu, boyaDegisen, takas, kimden = [],[],[],[],[],[],[],[],[],[],[],[],[],[],[],[],[],[]\n",
    "\n",
    "yedek_url = \"\"\n",
    "while sayac <= 35:  # 37 sayısı sitedeki verinin sayfa sayısı\n",
    "    sayac += 1\n",
    "\n",
    "    def get_soup(TARGET_URL):\n",
    "        page = requests.get(TARGET_URL)\n",
    "        soup = BeautifulSoup(page.text, 'html.parser')\n",
    "        return soup\n",
    "\n",
    "    if sayac == 1:\n",
    "        URL = 'https://www.arabam.com/ikinci-el/otomobil/fiat-punto'\n",
    "    else:\n",
    "        URL = 'https://www.arabam.com/ikinci-el/otomobil/fiat-punto?page=' + str(sayac)\n",
    "\n",
    "    soup = get_soup(URL)\n",
    "\n",
    "    print(f\"Sayfa {sayac}: {len(fiyat)} adet veri çekildi.\")\n",
    "\n",
    "    soupDetay = \"\"\n",
    "    bos = \"-\"\n",
    "    for k in soup.find_all(\"a\", href=True, attrs={'class':'link-overlay'}):\n",
    "        url = \"https://www.arabam.com\" + str(k['href'])  # ilanlara özel url\n",
    "        if yedek_url != url:\n",
    "            yedek_url = url\n",
    "            page = requests.get(url)\n",
    "            soupDetay = BeautifulSoup(page.text, 'html.parser')  # ilan detayı\n",
    "\n",
    "            index = 0\n",
    "            for j in soupDetay.find_all(\"div\", attrs={'class':'property-value'}):\n",
    "                verilen = len(soupDetay.find_all(\"div\", attrs={'class':'property-value'}))\n",
    "                kalandeger = 19 - verilen\n",
    "                yeniden_düzenlenmis_metin = j.text.replace('\\n', ' ').replace('  ', '').replace('\\r ', '')\n",
    "\n",
    "                if index == 0:\n",
    "                    price = soupDetay.find_all(\"div\", attrs={'class':'product-price'})\n",
    "                    priceDuzenleme = str(price).replace('\\n', ' ').replace('  ', '').replace('\\r ', '').replace('[<div class=\"product-price\">', '').replace('</div>]', '')\n",
    "                    fiyat.append(priceDuzenleme)\n",
    "\n",
    "                    i = 1\n",
    "                    while i <= kalandeger:\n",
    "                        if i == 1:\n",
    "                            kimden.append(bos)\n",
    "                        if i == 2:\n",
    "                            takas.append(bos)\n",
    "                        if i == 3:\n",
    "                            boyaDegisen.append(bos)\n",
    "                        if i == 4:\n",
    "                            yakitDeposu.append(bos)\n",
    "                        if i == 5:\n",
    "                            yakitTuketimi.append(bos)\n",
    "                        if i == 6:\n",
    "                            cekis.append(bos)\n",
    "                        if i == 7:\n",
    "                            motorGucu.append(bos)\n",
    "                        i += 1\n",
    "\n",
    "                if index == 2:\n",
    "                    marka.append(yeniden_düzenlenmis_metin)\n",
    "\n",
    "                if index == 3:\n",
    "                    seri.append(yeniden_düzenlenmis_metin)\n",
    "\n",
    "                if index == 4:\n",
    "                    model.append(yeniden_düzenlenmis_metin)\n",
    "\n",
    "                if index == 5:\n",
    "                    yil.append(yeniden_düzenlenmis_metin)\n",
    "\n",
    "                if index == 6:\n",
    "                    km.append(yeniden_düzenlenmis_metin)\n",
    "\n",
    "                if index == 7:\n",
    "                    vites.append(yeniden_düzenlenmis_metin)\n",
    "\n",
    "                if index == 8:\n",
    "                    yakit.append(yeniden_düzenlenmis_metin)\n",
    "\n",
    "                if index == 9:\n",
    "                    kasa.append(yeniden_düzenlenmis_metin)\n",
    "\n",
    "                if index == 10:\n",
    "                    renk.append(yeniden_düzenlenmis_metin)\n",
    "\n",
    "                if index == 11:\n",
    "                    motorHacmi.append(yeniden_düzenlenmis_metin)\n",
    "\n",
    "                if index == 12:\n",
    "                    motorGucu.append(yeniden_düzenlenmis_metin)\n",
    "\n",
    "                if index == 13:\n",
    "                    cekis.append(yeniden_düzenlenmis_metin)\n",
    "\n",
    "                if index == 14:\n",
    "                    yakitTuketimi.append(yeniden_düzenlenmis_metin)\n",
    "\n",
    "                if index == 15:\n",
    "                    yakitDeposu.append(yeniden_düzenlenmis_metin)\n",
    "\n",
    "                if index == 16:\n",
    "                    boyaDegisen.append(yeniden_düzenlenmis_metin)\n",
    "\n",
    "                if index == 17:\n",
    "                    takas.append(yeniden_düzenlenmis_metin)\n",
    "\n",
    "                if index == 18:\n",
    "                    kimden.append(yeniden_düzenlenmis_metin)\n",
    "                    index = 0\n",
    "\n",
    "                index += 1\n",
    "\n",
    "        else:\n",
    "            yedek_url = \"\"\n",
    "\n",
    "    time.sleep(3)  # 3 saniye bekleme süresi ekledim\n",
    "\n",
    "pd.DataFrame({\n",
    "    'fiyat': fiyat,\n",
    "    'marka': marka,\n",
    "    'seri': seri,\n",
    "    'model': model,\n",
    "    'yil': yil,\n",
    "    'km': km,\n",
    "    'vites': vites,\n",
    "    'yakit': yakit,\n",
    "    'kasa': kasa,\n",
    "    'renk': renk,\n",
    "    'motorHacmi': motorHacmi,\n",
    "    'motorGucu': motorGucu,\n",
    "    'cekis': cekis,\n",
    "    'yakitTuketimi': yakitTuketimi,\n",
    "    'yakitDeposu': yakitDeposu,\n",
    "    'boyaDegisen': boyaDegisen,\n",
    "    'takas': takas,\n",
    "    'kimden': kimden\n",
    "})"
   ]
  },
  {
   "cell_type": "code",
   "execution_count": 5,
   "id": "55ec7182",
   "metadata": {},
   "outputs": [],
   "source": [
    "df = pd.DataFrame({\n",
    "    'fiyat': fiyat,\n",
    "    'marka': marka,\n",
    "    'seri': seri,\n",
    "    'model': model,\n",
    "    'yil': yil,\n",
    "    'km': km,\n",
    "    'vites': vites,\n",
    "    'yakit': yakit,\n",
    "    'kasa': kasa,\n",
    "    'renk': renk,\n",
    "    'motorHacmi': motorHacmi,\n",
    "    'motorGucu': motorGucu,\n",
    "    'cekis': cekis,\n",
    "    'yakitTuketimi': yakitTuketimi,\n",
    "    'yakitDeposu': yakitDeposu,\n",
    "    'boyaDegisen': boyaDegisen,\n",
    "    'takas': takas,\n",
    "    'kimden': kimden\n",
    "})\n",
    "\n",
    "# CSV dosyasına kaydetme (utf-8 encoding kullanılıyor)\n",
    "df.to_csv('fiat-punto-ml.csv', sep=';', encoding='ISO-8859-9', index=False)"
   ]
  },
  {
   "cell_type": "code",
   "execution_count": 667,
   "id": "a2d9832d",
   "metadata": {},
   "outputs": [],
   "source": [
    "import numpy as np\n",
    "import pandas as pd\n",
    "import matplotlib.pyplot as plt\n",
    "from sklearn.linear_model import LinearRegression\n",
    "from sklearn.model_selection import train_test_split\n",
    "\n",
    "import statsmodels.api as sm\n",
    "from sklearn import preprocessing\n",
    "from sklearn import linear_model\n",
    "from sklearn.model_selection import train_test_split\n",
    "from sklearn.metrics import mean_squared_error, r2_score\n",
    "from sklearn.model_selection import train_test_split, cross_val_score, cross_val_predict"
   ]
  },
  {
   "cell_type": "code",
   "execution_count": 726,
   "id": "e58ebd56",
   "metadata": {},
   "outputs": [
    {
     "data": {
      "text/html": [
       "<div>\n",
       "<style scoped>\n",
       "    .dataframe tbody tr th:only-of-type {\n",
       "        vertical-align: middle;\n",
       "    }\n",
       "\n",
       "    .dataframe tbody tr th {\n",
       "        vertical-align: top;\n",
       "    }\n",
       "\n",
       "    .dataframe thead th {\n",
       "        text-align: right;\n",
       "    }\n",
       "</style>\n",
       "<table border=\"1\" class=\"dataframe\">\n",
       "  <thead>\n",
       "    <tr style=\"text-align: right;\">\n",
       "      <th></th>\n",
       "      <th>fiyat</th>\n",
       "      <th>model</th>\n",
       "      <th>yil</th>\n",
       "      <th>km</th>\n",
       "      <th>vites</th>\n",
       "      <th>yakit</th>\n",
       "      <th>renk</th>\n",
       "      <th>boyaDegisen</th>\n",
       "    </tr>\n",
       "  </thead>\n",
       "  <tbody>\n",
       "    <tr>\n",
       "      <th>0</th>\n",
       "      <td>525000.0</td>\n",
       "      <td>Grande 1.4 Fire Active</td>\n",
       "      <td>2007.0</td>\n",
       "      <td>62000.0</td>\n",
       "      <td>Yarı Otomatik</td>\n",
       "      <td>Benzin</td>\n",
       "      <td>Kırmızı</td>\n",
       "      <td>Tamamı orijinal</td>\n",
       "    </tr>\n",
       "    <tr>\n",
       "      <th>1</th>\n",
       "      <td>595000.0</td>\n",
       "      <td>EVO 1.4 Dynamic</td>\n",
       "      <td>2012.0</td>\n",
       "      <td>115000.0</td>\n",
       "      <td>Düz</td>\n",
       "      <td>LPG &amp; Benzin</td>\n",
       "      <td>Beyaz</td>\n",
       "      <td>8 boyalı</td>\n",
       "    </tr>\n",
       "    <tr>\n",
       "      <th>2</th>\n",
       "      <td>505000.0</td>\n",
       "      <td>Grande 1.4 Fire S&amp;S</td>\n",
       "      <td>2011.0</td>\n",
       "      <td>50000.0</td>\n",
       "      <td>Düz</td>\n",
       "      <td>Benzin</td>\n",
       "      <td>Beyaz</td>\n",
       "      <td>Tamamı orijinal</td>\n",
       "    </tr>\n",
       "    <tr>\n",
       "      <th>3</th>\n",
       "      <td>475000.0</td>\n",
       "      <td>1.3 Multijet Pop</td>\n",
       "      <td>2013.0</td>\n",
       "      <td>150000.0</td>\n",
       "      <td>Düz</td>\n",
       "      <td>Dizel</td>\n",
       "      <td>Beyaz</td>\n",
       "      <td>Tamamı orijinal</td>\n",
       "    </tr>\n",
       "    <tr>\n",
       "      <th>4</th>\n",
       "      <td>407500.0</td>\n",
       "      <td>EVO 1.3 Multijet Dynamic</td>\n",
       "      <td>2011.0</td>\n",
       "      <td>275000.0</td>\n",
       "      <td>Düz</td>\n",
       "      <td>Dizel</td>\n",
       "      <td>Mavi</td>\n",
       "      <td>2 değişen, 4 boyalı</td>\n",
       "    </tr>\n",
       "  </tbody>\n",
       "</table>\n",
       "</div>"
      ],
      "text/plain": [
       "      fiyat                     model     yil        km          vites  \\\n",
       "0  525000.0    Grande 1.4 Fire Active  2007.0   62000.0  Yarı Otomatik   \n",
       "1  595000.0           EVO 1.4 Dynamic  2012.0  115000.0            Düz   \n",
       "2  505000.0       Grande 1.4 Fire S&S  2011.0   50000.0            Düz   \n",
       "3  475000.0          1.3 Multijet Pop  2013.0  150000.0            Düz   \n",
       "4  407500.0  EVO 1.3 Multijet Dynamic  2011.0  275000.0            Düz   \n",
       "\n",
       "          yakit     renk            boyaDegisen  \n",
       "0        Benzin  Kırmızı       Tamamı orijinal   \n",
       "1  LPG & Benzin    Beyaz              8 boyalı   \n",
       "2        Benzin    Beyaz       Tamamı orijinal   \n",
       "3         Dizel    Beyaz       Tamamı orijinal   \n",
       "4         Dizel     Mavi   2 değişen, 4 boyalı   "
      ]
     },
     "execution_count": 726,
     "metadata": {},
     "output_type": "execute_result"
    }
   ],
   "source": [
    "df = pd.read_csv('fiat-punto3.csv', delimiter=';', encoding='cp1254')  #csv de ; ile ayrıldığını gördüğüm için delimiter ; kullandım.\n",
    "df.head(5)"
   ]
  },
  {
   "cell_type": "code",
   "execution_count": 173,
   "id": "b4e82317",
   "metadata": {},
   "outputs": [
    {
     "data": {
      "text/html": [
       "<div>\n",
       "<style scoped>\n",
       "    .dataframe tbody tr th:only-of-type {\n",
       "        vertical-align: middle;\n",
       "    }\n",
       "\n",
       "    .dataframe tbody tr th {\n",
       "        vertical-align: top;\n",
       "    }\n",
       "\n",
       "    .dataframe thead th {\n",
       "        text-align: right;\n",
       "    }\n",
       "</style>\n",
       "<table border=\"1\" class=\"dataframe\">\n",
       "  <thead>\n",
       "    <tr style=\"text-align: right;\">\n",
       "      <th></th>\n",
       "      <th>fiyat</th>\n",
       "      <th>model</th>\n",
       "      <th>yil</th>\n",
       "      <th>km</th>\n",
       "      <th>vites</th>\n",
       "      <th>yakit</th>\n",
       "      <th>renk</th>\n",
       "      <th>boyaDegisen</th>\n",
       "    </tr>\n",
       "  </thead>\n",
       "  <tbody>\n",
       "  </tbody>\n",
       "</table>\n",
       "</div>"
      ],
      "text/plain": [
       "Empty DataFrame\n",
       "Columns: [fiyat, model, yil, km, vites, yakit, renk, boyaDegisen]\n",
       "Index: []"
      ]
     },
     "execution_count": 173,
     "metadata": {},
     "output_type": "execute_result"
    }
   ],
   "source": [
    "df[(df.fiyat<10000) | (df.fiyat>800000) | (df.km>500000)] ## fiyat 10.000 den küçük mü veya 800.000 den büyük mü veya\n",
    "                                                            ## km 500.000 den büyük mü kontrolü yapıldı."
   ]
  },
  {
   "cell_type": "code",
   "execution_count": 174,
   "id": "3b51a940",
   "metadata": {},
   "outputs": [
    {
     "name": "stdout",
     "output_type": "stream",
     "text": [
      "<class 'pandas.core.frame.DataFrame'>\n",
      "RangeIndex: 694 entries, 0 to 693\n",
      "Data columns (total 8 columns):\n",
      " #   Column       Non-Null Count  Dtype \n",
      "---  ------       --------------  ----- \n",
      " 0   fiyat        694 non-null    int64 \n",
      " 1   model        694 non-null    object\n",
      " 2   yil          694 non-null    int64 \n",
      " 3   km           694 non-null    int64 \n",
      " 4   vites        694 non-null    object\n",
      " 5   yakit        694 non-null    object\n",
      " 6   renk         694 non-null    object\n",
      " 7   boyaDegisen  694 non-null    object\n",
      "dtypes: int64(3), object(5)\n",
      "memory usage: 43.5+ KB\n"
     ]
    }
   ],
   "source": [
    "df.info()  #featurelarda boş değer var mı bakıldı, veri tiplerine bakıldı."
   ]
  },
  {
   "cell_type": "code",
   "execution_count": 175,
   "id": "63a6ca70",
   "metadata": {},
   "outputs": [
    {
     "data": {
      "text/html": [
       "<div>\n",
       "<style scoped>\n",
       "    .dataframe tbody tr th:only-of-type {\n",
       "        vertical-align: middle;\n",
       "    }\n",
       "\n",
       "    .dataframe tbody tr th {\n",
       "        vertical-align: top;\n",
       "    }\n",
       "\n",
       "    .dataframe thead th {\n",
       "        text-align: right;\n",
       "    }\n",
       "</style>\n",
       "<table border=\"1\" class=\"dataframe\">\n",
       "  <thead>\n",
       "    <tr style=\"text-align: right;\">\n",
       "      <th></th>\n",
       "      <th>count</th>\n",
       "      <th>mean</th>\n",
       "      <th>std</th>\n",
       "      <th>min</th>\n",
       "      <th>25%</th>\n",
       "      <th>50%</th>\n",
       "      <th>75%</th>\n",
       "      <th>max</th>\n",
       "    </tr>\n",
       "  </thead>\n",
       "  <tbody>\n",
       "    <tr>\n",
       "      <th>fiyat</th>\n",
       "      <td>694.0</td>\n",
       "      <td>452212.747839</td>\n",
       "      <td>79274.613222</td>\n",
       "      <td>225000.0</td>\n",
       "      <td>390625.00</td>\n",
       "      <td>450000.0</td>\n",
       "      <td>509500.00</td>\n",
       "      <td>735000.0</td>\n",
       "    </tr>\n",
       "    <tr>\n",
       "      <th>yil</th>\n",
       "      <td>694.0</td>\n",
       "      <td>2009.939481</td>\n",
       "      <td>2.813454</td>\n",
       "      <td>1998.0</td>\n",
       "      <td>2008.00</td>\n",
       "      <td>2011.0</td>\n",
       "      <td>2012.00</td>\n",
       "      <td>2017.0</td>\n",
       "    </tr>\n",
       "    <tr>\n",
       "      <th>km</th>\n",
       "      <td>694.0</td>\n",
       "      <td>185800.204611</td>\n",
       "      <td>68789.761556</td>\n",
       "      <td>37000.0</td>\n",
       "      <td>137208.75</td>\n",
       "      <td>180637.0</td>\n",
       "      <td>231555.75</td>\n",
       "      <td>400000.0</td>\n",
       "    </tr>\n",
       "  </tbody>\n",
       "</table>\n",
       "</div>"
      ],
      "text/plain": [
       "       count           mean           std       min        25%       50%  \\\n",
       "fiyat  694.0  452212.747839  79274.613222  225000.0  390625.00  450000.0   \n",
       "yil    694.0    2009.939481      2.813454    1998.0    2008.00    2011.0   \n",
       "km     694.0  185800.204611  68789.761556   37000.0  137208.75  180637.0   \n",
       "\n",
       "             75%       max  \n",
       "fiyat  509500.00  735000.0  \n",
       "yil      2012.00    2017.0  \n",
       "km     231555.75  400000.0  "
      ]
     },
     "execution_count": 175,
     "metadata": {},
     "output_type": "execute_result"
    }
   ],
   "source": [
    "df.describe().T   #numeric verilerle ilgili max min % ve ortalama değerler kontrol edildi."
   ]
  },
  {
   "cell_type": "code",
   "execution_count": 176,
   "id": "f2323ae7",
   "metadata": {},
   "outputs": [
    {
     "data": {
      "text/html": [
       "<div>\n",
       "<style scoped>\n",
       "    .dataframe tbody tr th:only-of-type {\n",
       "        vertical-align: middle;\n",
       "    }\n",
       "\n",
       "    .dataframe tbody tr th {\n",
       "        vertical-align: top;\n",
       "    }\n",
       "\n",
       "    .dataframe thead th {\n",
       "        text-align: right;\n",
       "    }\n",
       "</style>\n",
       "<table border=\"1\" class=\"dataframe\">\n",
       "  <thead>\n",
       "    <tr style=\"text-align: right;\">\n",
       "      <th></th>\n",
       "      <th>fiyat</th>\n",
       "      <th>yil</th>\n",
       "      <th>km</th>\n",
       "    </tr>\n",
       "  </thead>\n",
       "  <tbody>\n",
       "    <tr>\n",
       "      <th>count</th>\n",
       "      <td>694.000000</td>\n",
       "      <td>694.000000</td>\n",
       "      <td>694.000000</td>\n",
       "    </tr>\n",
       "    <tr>\n",
       "      <th>mean</th>\n",
       "      <td>452212.747839</td>\n",
       "      <td>2009.939481</td>\n",
       "      <td>185800.204611</td>\n",
       "    </tr>\n",
       "    <tr>\n",
       "      <th>std</th>\n",
       "      <td>79274.613222</td>\n",
       "      <td>2.813454</td>\n",
       "      <td>68789.761556</td>\n",
       "    </tr>\n",
       "    <tr>\n",
       "      <th>min</th>\n",
       "      <td>225000.000000</td>\n",
       "      <td>1998.000000</td>\n",
       "      <td>37000.000000</td>\n",
       "    </tr>\n",
       "    <tr>\n",
       "      <th>25%</th>\n",
       "      <td>390625.000000</td>\n",
       "      <td>2008.000000</td>\n",
       "      <td>137208.750000</td>\n",
       "    </tr>\n",
       "    <tr>\n",
       "      <th>50%</th>\n",
       "      <td>450000.000000</td>\n",
       "      <td>2011.000000</td>\n",
       "      <td>180637.000000</td>\n",
       "    </tr>\n",
       "    <tr>\n",
       "      <th>75%</th>\n",
       "      <td>509500.000000</td>\n",
       "      <td>2012.000000</td>\n",
       "      <td>231555.750000</td>\n",
       "    </tr>\n",
       "    <tr>\n",
       "      <th>max</th>\n",
       "      <td>735000.000000</td>\n",
       "      <td>2017.000000</td>\n",
       "      <td>400000.000000</td>\n",
       "    </tr>\n",
       "  </tbody>\n",
       "</table>\n",
       "</div>"
      ],
      "text/plain": [
       "               fiyat          yil             km\n",
       "count     694.000000   694.000000     694.000000\n",
       "mean   452212.747839  2009.939481  185800.204611\n",
       "std     79274.613222     2.813454   68789.761556\n",
       "min    225000.000000  1998.000000   37000.000000\n",
       "25%    390625.000000  2008.000000  137208.750000\n",
       "50%    450000.000000  2011.000000  180637.000000\n",
       "75%    509500.000000  2012.000000  231555.750000\n",
       "max    735000.000000  2017.000000  400000.000000"
      ]
     },
     "execution_count": 176,
     "metadata": {},
     "output_type": "execute_result"
    }
   ],
   "source": [
    "df.describe() #numeric verilerle ilgili max min % ve ortalama değerler kontrol edildi."
   ]
  },
  {
   "cell_type": "code",
   "execution_count": 177,
   "id": "d0894e31",
   "metadata": {},
   "outputs": [
    {
     "data": {
      "text/plain": [
       "count       694.000000\n",
       "mean     452212.747839\n",
       "std       79274.613222\n",
       "min      225000.000000\n",
       "25%      390625.000000\n",
       "50%      450000.000000\n",
       "75%      509500.000000\n",
       "max      735000.000000\n",
       "Name: fiyat, dtype: float64"
      ]
     },
     "execution_count": 177,
     "metadata": {},
     "output_type": "execute_result"
    }
   ],
   "source": [
    "df.fiyat.describe() #fiyat kolonu ile ilgili ayrıntılar kontrol edildi."
   ]
  },
  {
   "cell_type": "code",
   "execution_count": 178,
   "id": "1a2af65f",
   "metadata": {},
   "outputs": [
    {
     "data": {
      "text/plain": [
       "count                        694\n",
       "unique                        39\n",
       "top       Grande 1.4 Fire Active\n",
       "freq                          87\n",
       "Name: model, dtype: object"
      ]
     },
     "execution_count": 178,
     "metadata": {},
     "output_type": "execute_result"
    }
   ],
   "source": [
    "df.model.describe()  #paketlerle ilgili bilgilere ulaşıldı. 694 adet (model)paket var, 40 farklı paket var, \n",
    "                     # Grande 1.4 Fire Active paketi 87 adet ve en çok bulunan paket."
   ]
  },
  {
   "cell_type": "code",
   "execution_count": 179,
   "id": "5177d519",
   "metadata": {},
   "outputs": [
    {
     "data": {
      "text/plain": [
       "model\n",
       "Grande 1.4 Fire Active              87\n",
       "Grande 1.3 Multijet Active          83\n",
       "1.3 Multijet Pop                    42\n",
       "EVO 1.3 Multijet Dynamic            42\n",
       "Grande 1.3 Multijet Dynamic         38\n",
       "Grande 1.4 Fire Dynamic             36\n",
       "1.3 Multijet Dynamic                31\n",
       "1.4 Pop S&S                         29\n",
       "1.4 Easy S&S                        28\n",
       "EVO 1.4 Dynamic                     24\n",
       "EVO 1.3 Multijet Active             24\n",
       "EVO 1.4 Active                      23\n",
       "1.4 Popstar S&S                     19\n",
       "1.3 Multijet Easy                   19\n",
       "1.4 Dynamic                         17\n",
       "Grande 1.3 Multijet 1.3 Multijet    17\n",
       "1.3 Multijet Lounge                 16\n",
       "1.2 Pop                             15\n",
       "1.3 Multijet Popstar                13\n",
       "EVO 1.4 Multiair Dynamic            10\n",
       "1.4 Lounge S&S                      10\n",
       "Grande 1.4 Fire S&S                  9\n",
       "EVO 1.4 Fire Dynamic                 9\n",
       "EVO 1.4 Fire My Life                 7\n",
       "1.2 Popstar                          6\n",
       "Grande 1.3 Multijet Emotion          6\n",
       "1.4 Mair Lounge S&S                  5\n",
       "1.3 Multijet Shine                   5\n",
       "EVO 1.3 Multijet My Life             5\n",
       "Grande 1.4 Starjet Dynamic           4\n",
       "1.2 Dynamic                          3\n",
       "1.7 D                                2\n",
       "Grande 1.4 Fire Fun                  2\n",
       "Grande 1.2 S5                        2\n",
       "Grande 1.4 T-Jet Dynamic             2\n",
       "1.4 Mair Easy S&S                    1\n",
       "1.4 Urban S&S                        1\n",
       "1.3 JTD                              1\n",
       "Grande 1.3 Multijet Fun              1\n",
       "Name: count, dtype: int64"
      ]
     },
     "execution_count": 179,
     "metadata": {},
     "output_type": "execute_result"
    }
   ],
   "source": [
    "df.model.value_counts() #diğer paketlerin kaç tane olduğunu gözlemledik. Verimizde bazı paketlerin fazla bazılarının ise\n",
    "                        #çok az olduğu gözlemlenmiş olup verimize bu araba paketlerine ilişkin yeni veriler eklenebilir\n",
    "                        #veya bu veriler veri setinden çıkarılabilir. Sahibinden.com dan veri çekme işlemine izin verilmediği\n",
    "                        #için bu paketlere ait verileri manuel olarak ekleyip tekrar gözlemleyelim. Her araba paketinden en\n",
    "                        #az 20 adet veri olacak şekilde düzenleyelim."
   ]
  },
  {
   "cell_type": "code",
   "execution_count": 844,
   "id": "fdc454e2",
   "metadata": {
    "scrolled": true
   },
   "outputs": [
    {
     "data": {
      "text/html": [
       "<div>\n",
       "<style scoped>\n",
       "    .dataframe tbody tr th:only-of-type {\n",
       "        vertical-align: middle;\n",
       "    }\n",
       "\n",
       "    .dataframe tbody tr th {\n",
       "        vertical-align: top;\n",
       "    }\n",
       "\n",
       "    .dataframe thead th {\n",
       "        text-align: right;\n",
       "    }\n",
       "</style>\n",
       "<table border=\"1\" class=\"dataframe\">\n",
       "  <thead>\n",
       "    <tr style=\"text-align: right;\">\n",
       "      <th></th>\n",
       "      <th>fiyat</th>\n",
       "      <th>model</th>\n",
       "      <th>yil</th>\n",
       "      <th>km</th>\n",
       "      <th>vites</th>\n",
       "      <th>yakit</th>\n",
       "      <th>renk</th>\n",
       "      <th>boyaDegisen</th>\n",
       "    </tr>\n",
       "  </thead>\n",
       "  <tbody>\n",
       "    <tr>\n",
       "      <th>0</th>\n",
       "      <td>525000</td>\n",
       "      <td>Grande 1.4 Fire Active</td>\n",
       "      <td>2007</td>\n",
       "      <td>62000</td>\n",
       "      <td>Otomatik</td>\n",
       "      <td>Benzin</td>\n",
       "      <td>Kırmızı</td>\n",
       "      <td>0 değişen, 0 boyalı</td>\n",
       "    </tr>\n",
       "    <tr>\n",
       "      <th>1</th>\n",
       "      <td>595000</td>\n",
       "      <td>EVO 1.4 Dynamic</td>\n",
       "      <td>2012</td>\n",
       "      <td>115000</td>\n",
       "      <td>Düz</td>\n",
       "      <td>LPG &amp; Benzin</td>\n",
       "      <td>Beyaz</td>\n",
       "      <td>8 boyalı</td>\n",
       "    </tr>\n",
       "    <tr>\n",
       "      <th>2</th>\n",
       "      <td>505000</td>\n",
       "      <td>Grande 1.4 Fire S&amp;S</td>\n",
       "      <td>2011</td>\n",
       "      <td>50000</td>\n",
       "      <td>Düz</td>\n",
       "      <td>Benzin</td>\n",
       "      <td>Beyaz</td>\n",
       "      <td>0 değişen, 0 boyalı</td>\n",
       "    </tr>\n",
       "    <tr>\n",
       "      <th>3</th>\n",
       "      <td>475000</td>\n",
       "      <td>1.3 Multijet Pop</td>\n",
       "      <td>2013</td>\n",
       "      <td>150000</td>\n",
       "      <td>Düz</td>\n",
       "      <td>Dizel</td>\n",
       "      <td>Beyaz</td>\n",
       "      <td>0 değişen, 0 boyalı</td>\n",
       "    </tr>\n",
       "    <tr>\n",
       "      <th>4</th>\n",
       "      <td>407500</td>\n",
       "      <td>EVO 1.3 Multijet Dynamic</td>\n",
       "      <td>2011</td>\n",
       "      <td>275000</td>\n",
       "      <td>Düz</td>\n",
       "      <td>Dizel</td>\n",
       "      <td>Mavi</td>\n",
       "      <td>2 değişen, 4 boyalı</td>\n",
       "    </tr>\n",
       "  </tbody>\n",
       "</table>\n",
       "</div>"
      ],
      "text/plain": [
       "    fiyat                     model   yil      km     vites         yakit  \\\n",
       "0  525000    Grande 1.4 Fire Active  2007   62000  Otomatik        Benzin   \n",
       "1  595000           EVO 1.4 Dynamic  2012  115000       Düz  LPG & Benzin   \n",
       "2  505000       Grande 1.4 Fire S&S  2011   50000       Düz        Benzin   \n",
       "3  475000          1.3 Multijet Pop  2013  150000       Düz         Dizel   \n",
       "4  407500  EVO 1.3 Multijet Dynamic  2011  275000       Düz         Dizel   \n",
       "\n",
       "      renk            boyaDegisen  \n",
       "0  Kırmızı    0 değişen, 0 boyalı  \n",
       "1    Beyaz              8 boyalı   \n",
       "2    Beyaz    0 değişen, 0 boyalı  \n",
       "3    Beyaz    0 değişen, 0 boyalı  \n",
       "4     Mavi   2 değişen, 4 boyalı   "
      ]
     },
     "execution_count": 844,
     "metadata": {},
     "output_type": "execute_result"
    }
   ],
   "source": [
    "###************************************Burdan başla***************************************************###\n",
    "\n",
    "df = pd.read_csv('fiat-punto2.csv', delimiter=';', encoding='cp1254')  #csv de ; ile ayrıldığı için delimiter ; kullandım.\n",
    "df.head(5)"
   ]
  },
  {
   "cell_type": "code",
   "execution_count": 803,
   "id": "a8d5e873",
   "metadata": {},
   "outputs": [],
   "source": [
    "#df_fit.loc[692] = [517000, '1.4 Popstar S&S', 2017, 66000, 'Düz', 'LPG & Benzin', 'Füme', 'Tamamı orijinal'] #eksik veri olduğu için eklendi.\n",
    "#unwanted_models = ['1.7 D', '1.3 JTD']\n",
    "#df = df[~df['model'].isin(unwanted_models)]"
   ]
  },
  {
   "cell_type": "code",
   "execution_count": 804,
   "id": "0f44a777",
   "metadata": {},
   "outputs": [
    {
     "data": {
      "text/plain": [
       "(1335, 8)"
      ]
     },
     "execution_count": 804,
     "metadata": {},
     "output_type": "execute_result"
    }
   ],
   "source": [
    "df.shape #sahibinden.com dan manuel olarak veri ekleme işlemi yapılmıştır."
   ]
  },
  {
   "cell_type": "code",
   "execution_count": 805,
   "id": "9c372cc5",
   "metadata": {},
   "outputs": [
    {
     "name": "stdout",
     "output_type": "stream",
     "text": [
      "<class 'pandas.core.frame.DataFrame'>\n",
      "RangeIndex: 1335 entries, 0 to 1334\n",
      "Data columns (total 8 columns):\n",
      " #   Column       Non-Null Count  Dtype \n",
      "---  ------       --------------  ----- \n",
      " 0   fiyat        1335 non-null   int64 \n",
      " 1   model        1335 non-null   object\n",
      " 2   yil          1335 non-null   int64 \n",
      " 3   km           1335 non-null   int64 \n",
      " 4   vites        1335 non-null   object\n",
      " 5   yakit        1335 non-null   object\n",
      " 6   renk         1335 non-null   object\n",
      " 7   boyaDegisen  1335 non-null   object\n",
      "dtypes: int64(3), object(5)\n",
      "memory usage: 83.6+ KB\n"
     ]
    }
   ],
   "source": [
    "df.info() #Boş veri bulunmamaktadır."
   ]
  },
  {
   "cell_type": "code",
   "execution_count": 806,
   "id": "c6765c0a",
   "metadata": {},
   "outputs": [
    {
     "data": {
      "text/plain": [
       "model\n",
       "Grande 1.4 Fire Active              87\n",
       "Grande 1.3 Multijet Active          83\n",
       "1.2 Pop                             75\n",
       "1.4 Popstar S&S                     61\n",
       "1.4 Dynamic                         59\n",
       "1.3 Multijet Popstar                52\n",
       "1.4 Lounge S&S                      49\n",
       "Grande 1.3 Multijet 1.3 Multijet    44\n",
       "EVO 1.4 Multiair Dynamic            44\n",
       "1.3 Multijet Lounge                 42\n",
       "1.3 Multijet Pop                    42\n",
       "EVO 1.3 Multijet Dynamic            42\n",
       "Grande 1.4 Fire S&S                 39\n",
       "EVO 1.4 Fire My Life                39\n",
       "1.2 Popstar                         39\n",
       "Grande 1.3 Multijet Dynamic         38\n",
       "EVO 1.4 Fire Dynamic                37\n",
       "1.3 Multijet Easy                   37\n",
       "Grande 1.4 Fire Dynamic             36\n",
       "Grande 1.3 Multijet Emotion         33\n",
       "1.3 Multijet Dynamic                31\n",
       "1.2 Dynamic                         30\n",
       "Grande 1.4 Starjet Dynamic          30\n",
       "1.4 Pop S&S                         29\n",
       "EVO 1.3 Multijet My Life            29\n",
       "1.4 Easy S&S                        28\n",
       "EVO 1.4 Dynamic                     24\n",
       "EVO 1.3 Multijet Active             24\n",
       "EVO 1.4 Active                      23\n",
       "1.4 Mair Lounge S&S                 21\n",
       "Grande 1.4 Fire Fun                 20\n",
       "Grande 1.4 T-Jet Dynamic            17\n",
       "Grande 1.3 Multijet Fun             14\n",
       "Grande 1.2 S5                       11\n",
       "1.4 Urban S&S                       10\n",
       "1.3 Multijet Shine                   8\n",
       "1.4 Mair Easy S&S                    5\n",
       "1.7 D                                2\n",
       "1.3 JTD                              1\n",
       "Name: count, dtype: int64"
      ]
     },
     "execution_count": 806,
     "metadata": {},
     "output_type": "execute_result"
    }
   ],
   "source": [
    "df.model.value_counts() #Yeni eklenen veriler sonrasında araba paketlerine göre sayıları gözlemlenmektedir. \n",
    "                        #1.7D , 1.3 JTD paketlerinde veri yetersiz olduğu için bu verileri drop out yaparak veri setimizi\n",
    "                        #düzenlememiz gerekiyor."
   ]
  },
  {
   "cell_type": "code",
   "execution_count": 845,
   "id": "065d0367",
   "metadata": {},
   "outputs": [],
   "source": [
    "#*****************************************************************************************#\n",
    "unwanted_models = ['1.7 D', '1.3 JTD']\n",
    "df = df[~df['model'].isin(unwanted_models)]"
   ]
  },
  {
   "cell_type": "code",
   "execution_count": 808,
   "id": "65d1ca83",
   "metadata": {},
   "outputs": [
    {
     "data": {
      "text/plain": [
       "(1332, 8)"
      ]
     },
     "execution_count": 808,
     "metadata": {},
     "output_type": "execute_result"
    }
   ],
   "source": [
    "df.shape #1.7 D ve 1.3 JTD e ait 3 adet veriyi veri setimizden çıkardık."
   ]
  },
  {
   "cell_type": "code",
   "execution_count": 809,
   "id": "b410b193",
   "metadata": {},
   "outputs": [
    {
     "data": {
      "text/plain": [
       "model\n",
       "Grande 1.4 Fire Active              87\n",
       "Grande 1.3 Multijet Active          83\n",
       "1.2 Pop                             75\n",
       "1.4 Popstar S&S                     61\n",
       "1.4 Dynamic                         59\n",
       "1.3 Multijet Popstar                52\n",
       "1.4 Lounge S&S                      49\n",
       "EVO 1.4 Multiair Dynamic            44\n",
       "Grande 1.3 Multijet 1.3 Multijet    44\n",
       "1.3 Multijet Lounge                 42\n",
       "1.3 Multijet Pop                    42\n",
       "EVO 1.3 Multijet Dynamic            42\n",
       "Grande 1.4 Fire S&S                 39\n",
       "1.2 Popstar                         39\n",
       "EVO 1.4 Fire My Life                39\n",
       "Grande 1.3 Multijet Dynamic         38\n",
       "EVO 1.4 Fire Dynamic                37\n",
       "1.3 Multijet Easy                   37\n",
       "Grande 1.4 Fire Dynamic             36\n",
       "Grande 1.3 Multijet Emotion         33\n",
       "1.3 Multijet Dynamic                31\n",
       "Grande 1.4 Starjet Dynamic          30\n",
       "1.2 Dynamic                         30\n",
       "EVO 1.3 Multijet My Life            29\n",
       "1.4 Pop S&S                         29\n",
       "1.4 Easy S&S                        28\n",
       "EVO 1.4 Dynamic                     24\n",
       "EVO 1.3 Multijet Active             24\n",
       "EVO 1.4 Active                      23\n",
       "1.4 Mair Lounge S&S                 21\n",
       "Grande 1.4 Fire Fun                 20\n",
       "Grande 1.4 T-Jet Dynamic            17\n",
       "Grande 1.3 Multijet Fun             14\n",
       "Grande 1.2 S5                       11\n",
       "1.4 Urban S&S                       10\n",
       "1.3 Multijet Shine                   8\n",
       "1.4 Mair Easy S&S                    5\n",
       "Name: count, dtype: int64"
      ]
     },
     "execution_count": 809,
     "metadata": {},
     "output_type": "execute_result"
    }
   ],
   "source": [
    "df.model.value_counts()"
   ]
  },
  {
   "cell_type": "code",
   "execution_count": 810,
   "id": "6f4aedbb",
   "metadata": {},
   "outputs": [
    {
     "data": {
      "text/plain": [
       "array(['Grande 1.4 Fire Active', 'EVO 1.4 Dynamic', 'Grande 1.4 Fire S&S',\n",
       "       '1.3 Multijet Pop', 'EVO 1.3 Multijet Dynamic',\n",
       "       'EVO 1.3 Multijet Active', 'Grande 1.3 Multijet Emotion',\n",
       "       'Grande 1.3 Multijet Active', 'Grande 1.3 Multijet 1.3 Multijet',\n",
       "       'Grande 1.3 Multijet Dynamic', '1.4 Popstar S&S', '1.4 Pop S&S',\n",
       "       'Grande 1.2 S5', '1.3 Multijet Easy', '1.4 Easy S&S',\n",
       "       '1.3 Multijet Dynamic', 'Grande 1.4 Fire Dynamic',\n",
       "       '1.3 Multijet Lounge', 'EVO 1.4 Fire Dynamic', 'EVO 1.4 Active',\n",
       "       '1.3 Multijet Popstar', '1.2 Pop', 'EVO 1.4 Fire My Life',\n",
       "       '1.2 Dynamic', 'Grande 1.4 T-Jet Dynamic', '1.4 Dynamic',\n",
       "       '1.4 Mair Lounge S&S', '1.2 Popstar', 'EVO 1.4 Multiair Dynamic',\n",
       "       'EVO 1.3 Multijet My Life', '1.4 Lounge S&S', '1.4 Mair Easy S&S',\n",
       "       'Grande 1.4 Starjet Dynamic', '1.3 Multijet Shine',\n",
       "       '1.4 Urban S&S', 'Grande 1.4 Fire Fun', 'Grande 1.3 Multijet Fun'],\n",
       "      dtype=object)"
      ]
     },
     "execution_count": 810,
     "metadata": {},
     "output_type": "execute_result"
    }
   ],
   "source": [
    "df.model.unique() #veri setimizdeki farklı paketlerin gözlemledik."
   ]
  },
  {
   "cell_type": "code",
   "execution_count": 811,
   "id": "65482ae1",
   "metadata": {},
   "outputs": [
    {
     "data": {
      "text/plain": [
       "count    1332.000000\n",
       "mean     2010.541291\n",
       "std         2.970520\n",
       "min      2004.000000\n",
       "25%      2008.000000\n",
       "50%      2011.000000\n",
       "75%      2012.000000\n",
       "max      2017.000000\n",
       "Name: yil, dtype: float64"
      ]
     },
     "execution_count": 811,
     "metadata": {},
     "output_type": "execute_result"
    }
   ],
   "source": [
    "df.yil.describe() #yil kolonunu inceledik; en eski araba 2004 en yeni 2017 olduğunu gördük."
   ]
  },
  {
   "cell_type": "code",
   "execution_count": 812,
   "id": "d25c32c1",
   "metadata": {},
   "outputs": [
    {
     "data": {
      "text/plain": [
       "yil\n",
       "2012    245\n",
       "2011    239\n",
       "2013    141\n",
       "2006    120\n",
       "2014    105\n",
       "2008    101\n",
       "2007     83\n",
       "2009     79\n",
       "2010     74\n",
       "2015     40\n",
       "2004     35\n",
       "2005     25\n",
       "2017     24\n",
       "2016     21\n",
       "Name: count, dtype: int64"
      ]
     },
     "execution_count": 812,
     "metadata": {},
     "output_type": "execute_result"
    }
   ],
   "source": [
    "df.yil.value_counts() #yillara ait kaç araba var bunlara baktık."
   ]
  },
  {
   "cell_type": "code",
   "execution_count": 813,
   "id": "9c13fdd6",
   "metadata": {},
   "outputs": [
    {
     "data": {
      "text/plain": [
       "array([2007, 2012, 2011, 2013, 2009, 2006, 2017, 2010, 2008, 2015, 2014,\n",
       "       2005, 2016, 2004], dtype=int64)"
      ]
     },
     "execution_count": 813,
     "metadata": {},
     "output_type": "execute_result"
    }
   ],
   "source": [
    "df.yil.unique() # yillara tekil olarak gözlemledik."
   ]
  },
  {
   "cell_type": "code",
   "execution_count": 814,
   "id": "e8a0e547",
   "metadata": {},
   "outputs": [
    {
     "data": {
      "text/plain": [
       "array(['Benzin', 'LPG & Benzin', 'Dizel'], dtype=object)"
      ]
     },
     "execution_count": 814,
     "metadata": {},
     "output_type": "execute_result"
    }
   ],
   "source": [
    "df.yakit.unique() #yakit tipleri"
   ]
  },
  {
   "cell_type": "code",
   "execution_count": 815,
   "id": "3b7ba5a0",
   "metadata": {},
   "outputs": [
    {
     "data": {
      "text/plain": [
       "count      1332\n",
       "unique        3\n",
       "top       Dizel\n",
       "freq        519\n",
       "Name: yakit, dtype: object"
      ]
     },
     "execution_count": 815,
     "metadata": {},
     "output_type": "execute_result"
    }
   ],
   "source": [
    "df.yakit.describe() #yakit kolonunda üç farklı yakıt çeşidi olduğu ve Dizel arabaların en çok ve 519 adet olduğunu gördük."
   ]
  },
  {
   "cell_type": "code",
   "execution_count": 816,
   "id": "cd668faf",
   "metadata": {},
   "outputs": [
    {
     "data": {
      "text/plain": [
       "yakit\n",
       "Dizel           519\n",
       "LPG & Benzin    451\n",
       "Benzin          362\n",
       "Name: count, dtype: int64"
      ]
     },
     "execution_count": 816,
     "metadata": {},
     "output_type": "execute_result"
    }
   ],
   "source": [
    "df.yakit.value_counts() #yakıt tipine göre araba sayılarını gördük."
   ]
  },
  {
   "cell_type": "code",
   "execution_count": 817,
   "id": "221e37f2",
   "metadata": {},
   "outputs": [
    {
     "data": {
      "text/plain": [
       "<Axes: ylabel='yakit'>"
      ]
     },
     "execution_count": 817,
     "metadata": {},
     "output_type": "execute_result"
    },
    {
     "data": {
      "image/png": "[encoded data removed]",
      "text/plain": [
       "<Figure size 640x480 with 1 Axes>"
      ]
     },
     "metadata": {},
     "output_type": "display_data"
    }
   ],
   "source": [
    "df.yakit.value_counts().plot.barh() #yakit tiplerini görselleştirdik."
   ]
  },
  {
   "cell_type": "code",
   "execution_count": 818,
   "id": "9e46c4c5",
   "metadata": {},
   "outputs": [
    {
     "data": {
      "text/plain": [
       "Text(0, 0.5, 'Yakıt Tipi')"
      ]
     },
     "execution_count": 818,
     "metadata": {},
     "output_type": "execute_result"
    },
    {
     "data": {
      "image/png": "[encoded data removed]",
      "text/plain": [
       "<Figure size 500x1500 with 1 Axes>"
      ]
     },
     "metadata": {},
     "output_type": "display_data"
    }
   ],
   "source": [
    "fig = plt.figure(figsize=(5,15))\n",
    "df.yakit.value_counts().plot(kind='pie',autopct='%.1f%%')\n",
    "plt.ylabel(\"Yakıt Tipi\", fontsize=20)"
   ]
  },
  {
   "cell_type": "code",
   "execution_count": 819,
   "id": "7e9033da",
   "metadata": {},
   "outputs": [
    {
     "data": {
      "text/plain": [
       "array(['Otomatik', 'Düz'], dtype=object)"
      ]
     },
     "execution_count": 819,
     "metadata": {},
     "output_type": "execute_result"
    }
   ],
   "source": [
    "df.vites.unique() #vites tipleri"
   ]
  },
  {
   "cell_type": "code",
   "execution_count": 820,
   "id": "a9eb9123",
   "metadata": {},
   "outputs": [
    {
     "data": {
      "text/plain": [
       "count     1332\n",
       "unique       2\n",
       "top        Düz\n",
       "freq      1121\n",
       "Name: vites, dtype: object"
      ]
     },
     "execution_count": 820,
     "metadata": {},
     "output_type": "execute_result"
    }
   ],
   "source": [
    "df.vites.describe() #vites kolonunda üç farklı vites tipi olduğu ve Düz vites arabaların en çok ve 1121 adet olduğunu gördük."
   ]
  },
  {
   "cell_type": "code",
   "execution_count": 821,
   "id": "e1f69312",
   "metadata": {},
   "outputs": [
    {
     "data": {
      "text/plain": [
       "vites\n",
       "Düz         1121\n",
       "Otomatik     211\n",
       "Name: count, dtype: int64"
      ]
     },
     "execution_count": 821,
     "metadata": {},
     "output_type": "execute_result"
    }
   ],
   "source": [
    "df.vites.value_counts() #vites tipine göre araba sayılarını gözlemledik."
   ]
  },
  {
   "cell_type": "code",
   "execution_count": 822,
   "id": "399b8d49",
   "metadata": {},
   "outputs": [
    {
     "data": {
      "text/plain": [
       "Text(0, 0.5, 'Vites Tipi')"
      ]
     },
     "execution_count": 822,
     "metadata": {},
     "output_type": "execute_result"
    },
    {
     "data": {
      "image/png": "[encoded data removed]",
      "text/plain": [
       "<Figure size 500x1500 with 1 Axes>"
      ]
     },
     "metadata": {},
     "output_type": "display_data"
    }
   ],
   "source": [
    "fig = plt.figure(figsize=(5,15))\n",
    "df.vites.value_counts().plot(kind='pie',autopct='%.1f%%')\n",
    "plt.ylabel(\"Vites Tipi\", fontsize=20)"
   ]
  },
  {
   "cell_type": "code",
   "execution_count": 823,
   "id": "12c9e0d1",
   "metadata": {},
   "outputs": [
    {
     "data": {
      "text/plain": [
       "count      1332.000000\n",
       "mean     177200.180180\n",
       "std       68039.504747\n",
       "min       16650.000000\n",
       "25%      127500.000000\n",
       "50%      172000.000000\n",
       "75%      222000.000000\n",
       "max      400000.000000\n",
       "Name: km, dtype: float64"
      ]
     },
     "execution_count": 823,
     "metadata": {},
     "output_type": "execute_result"
    }
   ],
   "source": [
    "df.km.describe() #kilometre min 16.650 , max 400.000 olduğunu gördük."
   ]
  },
  {
   "cell_type": "code",
   "execution_count": 824,
   "id": "aaaea5ef",
   "metadata": {},
   "outputs": [
    {
     "data": {
      "text/plain": [
       "count                    1332\n",
       "unique                    106\n",
       "top       0 değişen, 0 boyalı\n",
       "freq                      539\n",
       "Name: boyaDegisen, dtype: object"
      ]
     },
     "execution_count": 824,
     "metadata": {},
     "output_type": "execute_result"
    }
   ],
   "source": [
    "df.boyaDegisen.describe() #boya değişen kolonunu inceledik, 106 tane farklı olmakla birlikte en çok Tamamı orijinal (hatasız)\n",
    "                          #şeklinde 539 adet veri vardır."
   ]
  },
  {
   "cell_type": "code",
   "execution_count": 825,
   "id": "5bea1b41",
   "metadata": {},
   "outputs": [
    {
     "name": "stdout",
     "output_type": "stream",
     "text": [
      "boyaDegisen\n",
      "0 değişen, 0 boyalı       539\n",
      "1 boyalı                   54\n",
      " 1 değişen, 0 boyalı       45\n",
      " 1 boyalı                  35\n",
      "2 boyalı                   35\n",
      " 3 boyalı                  35\n",
      " 4 boyalı                  34\n",
      "3 boyalı                   34\n",
      " 2 boyalı                  29\n",
      "4 boyalı                   24\n",
      " 1 değişen, 2 boyalı       22\n",
      " 1 değişen, 3 boyalı       20\n",
      " 2 değişen, 0 boyalı       20\n",
      "1 değişen, 2 boyalı        19\n",
      " 1 değişen, 1 boyalı       17\n",
      "1 değişen, 3 boyalı        16\n",
      "5 boyalı                   15\n",
      "6 boyalı                   12\n",
      " 5 boyalı                  12\n",
      "1 değişen, 5 boyalı        11\n",
      " 6 boyalı                  11\n",
      "2 değişen, 3 boyalı        11\n",
      " 1 değişen, 4 boyalı       11\n",
      " 2 değişen, 2 boyalı       10\n",
      " 1 değişen, 5 boyalı       10\n",
      " 2 değişen, 4 boyalı        9\n",
      " 1 değişen, 7 boyalı        9\n",
      " 1 değişen, 6 boyalı        9\n",
      " 2 değişen, 6 boyalı        8\n",
      "13 boyalı                   8\n",
      "1 değişen, 6 boyalı         8\n",
      " 1 değişen, 8 boyalı        7\n",
      "2 değişen, 1 boyalı         7\n",
      "7 boyalı                    6\n",
      "1 değişen, 1 boyalı         6\n",
      "2 değişen, 2 boyalı         6\n",
      " 2 değişen, 5 boyalı        6\n",
      " 11 boyalı                  5\n",
      " 8 boyalı                   5\n",
      "2 değişen, 4 boyalı         5\n",
      " 7 boyalı                   5\n",
      " 10 boyalı                  5\n",
      " 1 değişen, 10 boyalı       5\n",
      "1 değişen, 4 boyalı         5\n",
      " 2 değişen, 3 boyalı        5\n",
      " 2 değişen, 1 boyalı        4\n",
      " 1 değişen, 9 boyalı        4\n",
      "3 değişen, 3 boyalı         4\n",
      " 3 değişen, 0 boyalı        4\n",
      "1 değişen, 7 boyalı         4\n",
      " 12 boyalı                  4\n",
      " 2 değişen, 11 boyalı       4\n",
      " 3 değişen, 7 boyalı        4\n",
      "2 değişen, 6 boyalı         3\n",
      "2 değişen, 10 boyalı        3\n",
      " 2 değişen, 3 boyalı        3\n",
      "2 değişen, 9 boyalı         3\n",
      " 2 değişen, 7 boyalı        3\n",
      " 3 değişen, 4 boyalı        3\n",
      " 2 değişen, 8 boyalı        3\n",
      " 1 değişen, 11 boyalı       3\n",
      " 3 değişen, 6 boyalı        3\n",
      " 9 boyalı                   3\n",
      "2 değişen, 5 boyalı         3\n",
      "2 değişen, 11 boyalı        3\n",
      "1 değişen, 10 boyalı        3\n",
      "3 değişen, 5 boyalı         2\n",
      "11 boyalı                   2\n",
      " 3 değişen, 1 boyalı        2\n",
      "3 değişen, 8 boyalı         2\n",
      "1 değişen, 11 boyalı        2\n",
      "3 değişen, 1 boyalı         2\n",
      "1 değişen, 8 boyalı         2\n",
      " 1 değişen, 1 boyalı        2\n",
      " 3 değişen, 10 boyalı       2\n",
      " 3 değişen, 3 boyalı        2\n",
      "3 değişen, 6 boyalı         2\n",
      "3 değişen, 7 boyalı         1\n",
      "8 boyalı                    1\n",
      "5 değişen, 5 boyalı         1\n",
      "3 değişen, 4 boyalı         1\n",
      "3 değişen, 10 boyalı        1\n",
      "4 değişen, 3 boyalı         1\n",
      "6 değişen, 6 boyalı         1\n",
      "4 değişen, 9 boyalı         1\n",
      "3 değişen, 2 boyalı         1\n",
      " 4 boyalı                   1\n",
      "2 değişen, 7 boyalı         1\n",
      " 2 değişen, 9 boyalı        1\n",
      " 3 değişen, 8 boyalı        1\n",
      " 3 değişen, 9 boyalı        1\n",
      " 5 değişen, 8 boyalı        1\n",
      " 2 değişen, 10 boyalı       1\n",
      " 3 değişen, 2 boyalı        1\n",
      " 4 değişen, 7 boyalı        1\n",
      " 5 değişen, 6 boyalı        1\n",
      " 1 değişen, 10 boyalı       1\n",
      " 1 değişen, 0 boyalı        1\n",
      " 1 değişen, 11 boyalı       1\n",
      " 2 değişen, 4 boyalı        1\n",
      " 6 değişen, 6 boyalı        1\n",
      " 2 değişen, 10 boyalı       1\n",
      "10 boyalı                   1\n",
      " 4 değişen, 0 boyalı        1\n",
      "9 boyalı                    1\n",
      "2 değişen, 8 boyalı         1\n",
      "Name: count, dtype: int64\n"
     ]
    }
   ],
   "source": [
    "pd.set_option('display.max_rows', None) #verinin tamamını görüntülemek için kullanıldı.\n",
    "print(df['boyaDegisen'].value_counts()) #verilerde boşluk olduğu için tekrarlı veriler mevcut."
   ]
  },
  {
   "cell_type": "code",
   "execution_count": 846,
   "id": "4625b2d0",
   "metadata": {},
   "outputs": [],
   "source": [
    "#***********************************************************************************************************************#\n",
    "df = df.applymap(lambda x: x.strip() if isinstance(x, str) else x) ##verilerin başındaki ve sonundaki boşlukları kaldırdım."
   ]
  },
  {
   "cell_type": "code",
   "execution_count": 841,
   "id": "80236290",
   "metadata": {},
   "outputs": [
    {
     "data": {
      "text/plain": [
       "boyaDegisen\n",
       "0 değişen, 0 boyalı     539\n",
       "1 boyalı                 89\n",
       "3 boyalı                 69\n",
       "2 boyalı                 64\n",
       "4 boyalı                 59\n",
       "1 değişen, 0 boyalı      46\n",
       "1 değişen, 2 boyalı      41\n",
       "1 değişen, 3 boyalı      36\n",
       "5 boyalı                 27\n",
       "1 değişen, 1 boyalı      25\n",
       "6 boyalı                 23\n",
       "1 değişen, 5 boyalı      21\n",
       "2 değişen, 0 boyalı      20\n",
       "2 değişen, 3 boyalı      19\n",
       "1 değişen, 6 boyalı      17\n",
       "1 değişen, 4 boyalı      16\n",
       "2 değişen, 2 boyalı      16\n",
       "2 değişen, 4 boyalı      15\n",
       "1 değişen, 7 boyalı      13\n",
       "7 boyalı                 11\n",
       "2 değişen, 1 boyalı      11\n",
       "2 değişen, 6 boyalı      11\n",
       "1 değişen, 10 boyalı      9\n",
       "1 değişen, 8 boyalı       9\n",
       "2 değişen, 5 boyalı       9\n",
       "13 boyalı                 8\n",
       "2 değişen, 11 boyalı      7\n",
       "11 boyalı                 7\n",
       "3 değişen, 3 boyalı       6\n",
       "8 boyalı                  6\n",
       "1 değişen, 11 boyalı      6\n",
       "10 boyalı                 6\n",
       "2 değişen, 10 boyalı      5\n",
       "3 değişen, 7 boyalı       5\n",
       "3 değişen, 6 boyalı       5\n",
       "2 değişen, 9 boyalı       4\n",
       "2 değişen, 8 boyalı       4\n",
       "3 değişen, 4 boyalı       4\n",
       "1 değişen, 9 boyalı       4\n",
       "12 boyalı                 4\n",
       "3 değişen, 1 boyalı       4\n",
       "3 değişen, 0 boyalı       4\n",
       "2 değişen, 7 boyalı       4\n",
       "9 boyalı                  4\n",
       "3 değişen, 8 boyalı       3\n",
       "3 değişen, 10 boyalı      3\n",
       "3 değişen, 2 boyalı       2\n",
       "6 değişen, 6 boyalı       2\n",
       "3 değişen, 5 boyalı       2\n",
       "4 değişen, 9 boyalı       1\n",
       "4 değişen, 3 boyalı       1\n",
       "5 değişen, 8 boyalı       1\n",
       "4 değişen, 0 boyalı       1\n",
       "5 değişen, 6 boyalı       1\n",
       "4 değişen, 7 boyalı       1\n",
       "3 değişen, 9 boyalı       1\n",
       "5 değişen, 5 boyalı       1\n",
       "Name: count, dtype: int64"
      ]
     },
     "execution_count": 841,
     "metadata": {},
     "output_type": "execute_result"
    }
   ],
   "source": [
    "df.boyaDegisen.value_counts()"
   ]
  },
  {
   "cell_type": "code",
   "execution_count": 828,
   "id": "11fc471a",
   "metadata": {},
   "outputs": [
    {
     "data": {
      "text/plain": [
       "count                    1332\n",
       "unique                     57\n",
       "top       0 değişen, 0 boyalı\n",
       "freq                      539\n",
       "Name: boyaDegisen, dtype: object"
      ]
     },
     "execution_count": 828,
     "metadata": {},
     "output_type": "execute_result"
    }
   ],
   "source": [
    "df.boyaDegisen.describe() #boşlukları sildiğimizde tekrarlı veriler ortadan kalkmış ve Tamamı orijinal 539 adet olduğu\n",
    "                          #görülmüştür."
   ]
  },
  {
   "cell_type": "code",
   "execution_count": 829,
   "id": "ab186f46",
   "metadata": {},
   "outputs": [
    {
     "data": {
      "text/plain": [
       "(1332, 8)"
      ]
     },
     "execution_count": 829,
     "metadata": {},
     "output_type": "execute_result"
    }
   ],
   "source": [
    "df.shape #Veri seti 1332 satır ve 8 sütundan oluşmaktadır."
   ]
  },
  {
   "cell_type": "code",
   "execution_count": 830,
   "id": "1cfe9da8",
   "metadata": {},
   "outputs": [
    {
     "data": {
      "text/plain": [
       "fiyat          0\n",
       "model          0\n",
       "yil            0\n",
       "km             0\n",
       "vites          0\n",
       "yakit          0\n",
       "renk           0\n",
       "boyaDegisen    0\n",
       "dtype: int64"
      ]
     },
     "execution_count": 830,
     "metadata": {},
     "output_type": "execute_result"
    }
   ],
   "source": [
    "df.isnull().sum() #veri setinde boş veri bulunmamaktadır."
   ]
  },
  {
   "cell_type": "code",
   "execution_count": null,
   "id": "af439b0a",
   "metadata": {},
   "outputs": [],
   "source": [
    "##*******************************************************************************************************##"
   ]
  },
  {
   "cell_type": "code",
   "execution_count": null,
   "id": "f659607e",
   "metadata": {},
   "outputs": [],
   "source": [
    "##*******************************************************************************************************##"
   ]
  },
  {
   "cell_type": "code",
   "execution_count": 257,
   "id": "d8e81aa0",
   "metadata": {},
   "outputs": [],
   "source": [
    "import numpy as np\n",
    "import pandas as pd\n",
    "import matplotlib.pyplot as plt\n",
    "from sklearn.linear_model import LinearRegression\n",
    "from sklearn.model_selection import train_test_split\n",
    "\n",
    "import statsmodels.api as sm\n",
    "from sklearn.preprocessing import LabelEncoder, OneHotEncoder\n",
    "from sklearn.preprocessing import StandardScaler, MinMaxScaler\n",
    "from sklearn import linear_model\n",
    "from sklearn.model_selection import train_test_split\n",
    "from sklearn.metrics import mean_squared_error, r2_score, mean_absolute_error\n",
    "from sklearn.compose import ColumnTransformer\n",
    "from sklearn.model_selection import train_test_split, cross_val_score, cross_val_predict"
   ]
  },
  {
   "cell_type": "code",
   "execution_count": 258,
   "id": "39e0b63a",
   "metadata": {},
   "outputs": [
    {
     "data": {
      "text/html": [
       "<div>\n",
       "<style scoped>\n",
       "    .dataframe tbody tr th:only-of-type {\n",
       "        vertical-align: middle;\n",
       "    }\n",
       "\n",
       "    .dataframe tbody tr th {\n",
       "        vertical-align: top;\n",
       "    }\n",
       "\n",
       "    .dataframe thead th {\n",
       "        text-align: right;\n",
       "    }\n",
       "</style>\n",
       "<table border=\"1\" class=\"dataframe\">\n",
       "  <thead>\n",
       "    <tr style=\"text-align: right;\">\n",
       "      <th></th>\n",
       "      <th>fiyat</th>\n",
       "      <th>model</th>\n",
       "      <th>yil</th>\n",
       "      <th>km</th>\n",
       "      <th>vites</th>\n",
       "      <th>yakit</th>\n",
       "      <th>renk</th>\n",
       "      <th>boyaDegisen</th>\n",
       "    </tr>\n",
       "  </thead>\n",
       "  <tbody>\n",
       "    <tr>\n",
       "      <th>0</th>\n",
       "      <td>525000</td>\n",
       "      <td>Grande 1.4 Fire Active</td>\n",
       "      <td>2007</td>\n",
       "      <td>62000</td>\n",
       "      <td>Otomatik</td>\n",
       "      <td>Benzin</td>\n",
       "      <td>Kırmızı</td>\n",
       "      <td>0 değişen, 0 boyalı</td>\n",
       "    </tr>\n",
       "    <tr>\n",
       "      <th>1</th>\n",
       "      <td>595000</td>\n",
       "      <td>EVO 1.4 Dynamic</td>\n",
       "      <td>2012</td>\n",
       "      <td>115000</td>\n",
       "      <td>Düz</td>\n",
       "      <td>LPG &amp; Benzin</td>\n",
       "      <td>Beyaz</td>\n",
       "      <td>8 boyalı</td>\n",
       "    </tr>\n",
       "    <tr>\n",
       "      <th>2</th>\n",
       "      <td>505000</td>\n",
       "      <td>Grande 1.4 Fire S&amp;S</td>\n",
       "      <td>2011</td>\n",
       "      <td>50000</td>\n",
       "      <td>Düz</td>\n",
       "      <td>Benzin</td>\n",
       "      <td>Beyaz</td>\n",
       "      <td>0 değişen, 0 boyalı</td>\n",
       "    </tr>\n",
       "    <tr>\n",
       "      <th>3</th>\n",
       "      <td>475000</td>\n",
       "      <td>1.3 Multijet Pop</td>\n",
       "      <td>2013</td>\n",
       "      <td>150000</td>\n",
       "      <td>Düz</td>\n",
       "      <td>Dizel</td>\n",
       "      <td>Beyaz</td>\n",
       "      <td>0 değişen, 0 boyalı</td>\n",
       "    </tr>\n",
       "    <tr>\n",
       "      <th>4</th>\n",
       "      <td>407500</td>\n",
       "      <td>EVO 1.3 Multijet Dynamic</td>\n",
       "      <td>2011</td>\n",
       "      <td>275000</td>\n",
       "      <td>Düz</td>\n",
       "      <td>Dizel</td>\n",
       "      <td>Mavi</td>\n",
       "      <td>2 değişen, 4 boyalı</td>\n",
       "    </tr>\n",
       "    <tr>\n",
       "      <th>...</th>\n",
       "      <td>...</td>\n",
       "      <td>...</td>\n",
       "      <td>...</td>\n",
       "      <td>...</td>\n",
       "      <td>...</td>\n",
       "      <td>...</td>\n",
       "      <td>...</td>\n",
       "      <td>...</td>\n",
       "    </tr>\n",
       "    <tr>\n",
       "      <th>1330</th>\n",
       "      <td>554000</td>\n",
       "      <td>1.4 Popstar S&amp;S</td>\n",
       "      <td>2017</td>\n",
       "      <td>88819</td>\n",
       "      <td>Düz</td>\n",
       "      <td>LPG &amp; Benzin</td>\n",
       "      <td>Beyaz</td>\n",
       "      <td>0 değişen, 0 boyalı</td>\n",
       "    </tr>\n",
       "    <tr>\n",
       "      <th>1331</th>\n",
       "      <td>580000</td>\n",
       "      <td>1.4 Popstar S&amp;S</td>\n",
       "      <td>2017</td>\n",
       "      <td>44000</td>\n",
       "      <td>Düz</td>\n",
       "      <td>Benzin</td>\n",
       "      <td>Beyaz</td>\n",
       "      <td>0 değişen, 0 boyalı</td>\n",
       "    </tr>\n",
       "    <tr>\n",
       "      <th>1332</th>\n",
       "      <td>560000</td>\n",
       "      <td>1.4 Popstar S&amp;S</td>\n",
       "      <td>2017</td>\n",
       "      <td>47815</td>\n",
       "      <td>Düz</td>\n",
       "      <td>Benzin</td>\n",
       "      <td>Kırmızı</td>\n",
       "      <td>2 boyalı</td>\n",
       "    </tr>\n",
       "    <tr>\n",
       "      <th>1333</th>\n",
       "      <td>585000</td>\n",
       "      <td>1.4 Popstar S&amp;S</td>\n",
       "      <td>2017</td>\n",
       "      <td>53900</td>\n",
       "      <td>Düz</td>\n",
       "      <td>Benzin</td>\n",
       "      <td>Kırmızı</td>\n",
       "      <td>0 değişen, 0 boyalı</td>\n",
       "    </tr>\n",
       "    <tr>\n",
       "      <th>1334</th>\n",
       "      <td>580000</td>\n",
       "      <td>1.4 Popstar S&amp;S</td>\n",
       "      <td>2017</td>\n",
       "      <td>53000</td>\n",
       "      <td>Düz</td>\n",
       "      <td>LPG &amp; Benzin</td>\n",
       "      <td>Siyah</td>\n",
       "      <td>0 değişen, 0 boyalı</td>\n",
       "    </tr>\n",
       "  </tbody>\n",
       "</table>\n",
       "<p>1335 rows × 8 columns</p>\n",
       "</div>"
      ],
      "text/plain": [
       "       fiyat                     model   yil      km     vites         yakit  \\\n",
       "0     525000    Grande 1.4 Fire Active  2007   62000  Otomatik        Benzin   \n",
       "1     595000           EVO 1.4 Dynamic  2012  115000       Düz  LPG & Benzin   \n",
       "2     505000       Grande 1.4 Fire S&S  2011   50000       Düz        Benzin   \n",
       "3     475000          1.3 Multijet Pop  2013  150000       Düz         Dizel   \n",
       "4     407500  EVO 1.3 Multijet Dynamic  2011  275000       Düz         Dizel   \n",
       "...      ...                       ...   ...     ...       ...           ...   \n",
       "1330  554000           1.4 Popstar S&S  2017   88819       Düz  LPG & Benzin   \n",
       "1331  580000           1.4 Popstar S&S  2017   44000       Düz        Benzin   \n",
       "1332  560000           1.4 Popstar S&S  2017   47815       Düz        Benzin   \n",
       "1333  585000           1.4 Popstar S&S  2017   53900       Düz        Benzin   \n",
       "1334  580000           1.4 Popstar S&S  2017   53000       Düz  LPG & Benzin   \n",
       "\n",
       "         renk            boyaDegisen  \n",
       "0     Kırmızı    0 değişen, 0 boyalı  \n",
       "1       Beyaz              8 boyalı   \n",
       "2       Beyaz    0 değişen, 0 boyalı  \n",
       "3       Beyaz    0 değişen, 0 boyalı  \n",
       "4        Mavi   2 değişen, 4 boyalı   \n",
       "...       ...                    ...  \n",
       "1330    Beyaz    0 değişen, 0 boyalı  \n",
       "1331    Beyaz    0 değişen, 0 boyalı  \n",
       "1332  Kırmızı               2 boyalı  \n",
       "1333  Kırmızı    0 değişen, 0 boyalı  \n",
       "1334    Siyah    0 değişen, 0 boyalı  \n",
       "\n",
       "[1335 rows x 8 columns]"
      ]
     },
     "execution_count": 258,
     "metadata": {},
     "output_type": "execute_result"
    }
   ],
   "source": [
    "df = pd.read_csv('fiat-punto2.csv', delimiter=';', encoding='cp1254')\n",
    "df#csv de ; ile ayrıldığı için delimiter ; kullandım."
   ]
  },
  {
   "cell_type": "code",
   "execution_count": 259,
   "id": "87957370",
   "metadata": {},
   "outputs": [],
   "source": [
    "unwanted_models = ['1.7 D', '1.3 JTD']\n",
    "df = df[~df['model'].isin(unwanted_models)]\n",
    "df = df.applymap(lambda x: x.strip() if isinstance(x, str) else x) ##verilerin başındaki ve sonundaki boşlukları kaldırdım."
   ]
  },
  {
   "cell_type": "code",
   "execution_count": 260,
   "id": "8b817f0c",
   "metadata": {},
   "outputs": [
    {
     "data": {
      "text/html": [
       "<div>\n",
       "<style scoped>\n",
       "    .dataframe tbody tr th:only-of-type {\n",
       "        vertical-align: middle;\n",
       "    }\n",
       "\n",
       "    .dataframe tbody tr th {\n",
       "        vertical-align: top;\n",
       "    }\n",
       "\n",
       "    .dataframe thead th {\n",
       "        text-align: right;\n",
       "    }\n",
       "</style>\n",
       "<table border=\"1\" class=\"dataframe\">\n",
       "  <thead>\n",
       "    <tr style=\"text-align: right;\">\n",
       "      <th></th>\n",
       "      <th>fiyat</th>\n",
       "      <th>model</th>\n",
       "      <th>yil</th>\n",
       "      <th>km</th>\n",
       "      <th>vites</th>\n",
       "      <th>yakit</th>\n",
       "      <th>renk</th>\n",
       "      <th>boya</th>\n",
       "      <th>Degisen</th>\n",
       "    </tr>\n",
       "  </thead>\n",
       "  <tbody>\n",
       "    <tr>\n",
       "      <th>0</th>\n",
       "      <td>525000</td>\n",
       "      <td>Grande 1.4 Fire Active</td>\n",
       "      <td>2007</td>\n",
       "      <td>62000</td>\n",
       "      <td>Otomatik</td>\n",
       "      <td>Benzin</td>\n",
       "      <td>Kırmızı</td>\n",
       "      <td>0</td>\n",
       "      <td>0</td>\n",
       "    </tr>\n",
       "    <tr>\n",
       "      <th>1</th>\n",
       "      <td>595000</td>\n",
       "      <td>EVO 1.4 Dynamic</td>\n",
       "      <td>2012</td>\n",
       "      <td>115000</td>\n",
       "      <td>Düz</td>\n",
       "      <td>LPG &amp; Benzin</td>\n",
       "      <td>Beyaz</td>\n",
       "      <td>8</td>\n",
       "      <td>0</td>\n",
       "    </tr>\n",
       "    <tr>\n",
       "      <th>2</th>\n",
       "      <td>505000</td>\n",
       "      <td>Grande 1.4 Fire S&amp;S</td>\n",
       "      <td>2011</td>\n",
       "      <td>50000</td>\n",
       "      <td>Düz</td>\n",
       "      <td>Benzin</td>\n",
       "      <td>Beyaz</td>\n",
       "      <td>0</td>\n",
       "      <td>0</td>\n",
       "    </tr>\n",
       "    <tr>\n",
       "      <th>3</th>\n",
       "      <td>475000</td>\n",
       "      <td>1.3 Multijet Pop</td>\n",
       "      <td>2013</td>\n",
       "      <td>150000</td>\n",
       "      <td>Düz</td>\n",
       "      <td>Dizel</td>\n",
       "      <td>Beyaz</td>\n",
       "      <td>0</td>\n",
       "      <td>0</td>\n",
       "    </tr>\n",
       "    <tr>\n",
       "      <th>4</th>\n",
       "      <td>407500</td>\n",
       "      <td>EVO 1.3 Multijet Dynamic</td>\n",
       "      <td>2011</td>\n",
       "      <td>275000</td>\n",
       "      <td>Düz</td>\n",
       "      <td>Dizel</td>\n",
       "      <td>Mavi</td>\n",
       "      <td>4</td>\n",
       "      <td>2</td>\n",
       "    </tr>\n",
       "  </tbody>\n",
       "</table>\n",
       "</div>"
      ],
      "text/plain": [
       "    fiyat                     model   yil      km     vites         yakit  \\\n",
       "0  525000    Grande 1.4 Fire Active  2007   62000  Otomatik        Benzin   \n",
       "1  595000           EVO 1.4 Dynamic  2012  115000       Düz  LPG & Benzin   \n",
       "2  505000       Grande 1.4 Fire S&S  2011   50000       Düz        Benzin   \n",
       "3  475000          1.3 Multijet Pop  2013  150000       Düz         Dizel   \n",
       "4  407500  EVO 1.3 Multijet Dynamic  2011  275000       Düz         Dizel   \n",
       "\n",
       "      renk  boya  Degisen  \n",
       "0  Kırmızı     0        0  \n",
       "1    Beyaz     8        0  \n",
       "2    Beyaz     0        0  \n",
       "3    Beyaz     0        0  \n",
       "4     Mavi     4        2  "
      ]
     },
     "execution_count": 260,
     "metadata": {},
     "output_type": "execute_result"
    }
   ],
   "source": [
    "df[\"boya\"]= df[\"boyaDegisen\"]\n",
    "df['boya'] = df['boya'].apply(lambda x: int(x.split(\",\")[1].split(\" \")[1]) if  x!=None and type(x)!=int  and len(x)>15 else x)\n",
    "df['boya'] = df['boya'].apply(lambda x: int(x.split(\" \")[0]) if x!=None and type(x)!=int  and len(x)<15 and \"boyalı\" in x else x)\n",
    "\n",
    "df[\"Degisen\"]= df[\"boyaDegisen\"]\n",
    "df['Degisen'] = df['Degisen'].apply(lambda x: int(x.split(\",\")[0].split(\" \")[0]) if type(x)!=int and x!=None and len(x)>15 else x)\n",
    "df['Degisen'] = df['Degisen'].apply(lambda x: int(x.split(\" \")[0]) if type(x)!=int and x!=None and len(x)<15 and \"değişen\" in x else x)\n",
    "df['Degisen'] = df['Degisen'].apply(lambda x: 0 if type(x)!=int and x!=None and len(x)<15 and \"boyalı\" in x else x)\n",
    "\n",
    "df['Degisen'] = df['Degisen'].apply(lambda x: int(x.split(\",\")[0].split(\" \")[0]) if type(x)!=int and x!=None and len(x)>15 else x)\n",
    "\n",
    "df=df.drop([\"boyaDegisen\"],axis=1)\n",
    "df.head()"
   ]
  },
  {
   "cell_type": "code",
   "execution_count": 261,
   "id": "87a80639",
   "metadata": {},
   "outputs": [
    {
     "name": "stdout",
     "output_type": "stream",
     "text": [
      "<class 'pandas.core.frame.DataFrame'>\n",
      "Index: 1332 entries, 0 to 1334\n",
      "Data columns (total 9 columns):\n",
      " #   Column   Non-Null Count  Dtype \n",
      "---  ------   --------------  ----- \n",
      " 0   fiyat    1332 non-null   int64 \n",
      " 1   model    1332 non-null   object\n",
      " 2   yil      1332 non-null   int64 \n",
      " 3   km       1332 non-null   int64 \n",
      " 4   vites    1332 non-null   object\n",
      " 5   yakit    1332 non-null   object\n",
      " 6   renk     1332 non-null   object\n",
      " 7   boya     1332 non-null   int64 \n",
      " 8   Degisen  1332 non-null   int64 \n",
      "dtypes: int64(5), object(4)\n",
      "memory usage: 104.1+ KB\n"
     ]
    }
   ],
   "source": [
    "df.info()"
   ]
  },
  {
   "cell_type": "code",
   "execution_count": 269,
   "id": "2d1bc750",
   "metadata": {},
   "outputs": [],
   "source": [
    "selectedFeatures = [\"model\", \"yil\", \"km\", \"vites\", \"yakit\", \"renk\", \"boya\", \"Degisen\"]\n",
    "\n",
    "# Hedef değişken ve özellikler\n",
    "y = df[\"fiyat\"]\n",
    "X = df[selectedFeatures]\n",
    "\n",
    "# Sayısal ve kategorik özellikleri seçme\n",
    "numeric_features = ['km','boya','Degisen']\n",
    "categorical_features = [\"yil\", \"yakit\", \"vites\", \"model\",\"renk\"]\n",
    "\n",
    "# Sayısal özellikler için işlem\n",
    "numeric_transformer = ColumnTransformer(\n",
    "    transformers=[\n",
    "        ('scaler', MinMaxScaler(), numeric_features)\n",
    "    ])\n",
    "\n",
    "# Kategorik özellikler için işlem\n",
    "categorical_transformer = ColumnTransformer(\n",
    "    transformers=[\n",
    "        ('onehot', OneHotEncoder(handle_unknown='ignore'), categorical_features)\n",
    "    ])\n",
    "\n",
    "# Sayısal ve kategorik özellikleri birleştirme\n",
    "preprocessor = ColumnTransformer(\n",
    "    transformers=[\n",
    "        ('num', numeric_transformer, numeric_features),\n",
    "        ('cat', categorical_transformer, categorical_features)\n",
    "    ])\n",
    "\n",
    "# Özellikleri işleme\n",
    "X_preprocessed = preprocessor.fit_transform(X)\n",
    "\n",
    "# Eğitim ve test veri setlerine ayırma\n",
    "X_train, X_test, y_train, y_test = train_test_split(X_preprocessed, y, test_size=0.2, random_state=42)"
   ]
  },
  {
   "cell_type": "code",
   "execution_count": 262,
   "id": "b740b47f",
   "metadata": {},
   "outputs": [
    {
     "data": {
      "text/plain": [
       "array([[0.58981233, 0.15384615, 0.16666667, ..., 0.        , 0.        ,\n",
       "        1.        ],\n",
       "       [0.16353887, 0.        , 0.        , ..., 0.        , 0.        ,\n",
       "        1.        ],\n",
       "       [0.38605898, 0.        , 0.        , ..., 0.        , 0.        ,\n",
       "        1.        ],\n",
       "       ...,\n",
       "       [0.42627346, 0.23076923, 0.        , ..., 0.        , 1.        ,\n",
       "        0.        ],\n",
       "       [0.44772118, 0.        , 0.        , ..., 0.        , 1.        ,\n",
       "        0.        ],\n",
       "       [0.25201072, 0.30769231, 0.        , ..., 0.        , 0.        ,\n",
       "        1.        ]])"
      ]
     },
     "execution_count": 262,
     "metadata": {},
     "output_type": "execute_result"
    }
   ],
   "source": [
    "X_test"
   ]
  },
  {
   "cell_type": "code",
   "execution_count": 263,
   "id": "9cf98903",
   "metadata": {},
   "outputs": [
    {
     "name": "stdout",
     "output_type": "stream",
     "text": [
      "Linear Reg R2 (Eğitim): 0.7415668846125778\n",
      "Linear Reg R2 (Test): 0.7014487702409523\n",
      "Linear Reg MSE: 1993160203.8739185\n",
      "Linear Ref MAE: 32977.493895519554\n"
     ]
    },
    {
     "data": {
      "text/plain": [
       "['linreg.joblib']"
      ]
     },
     "execution_count": 263,
     "metadata": {},
     "output_type": "execute_result"
    }
   ],
   "source": [
    "# Model oluşturma ve eğitme\n",
    "model = LinearRegression()\n",
    "model.fit(X_train, y_train)\n",
    "\n",
    "# Tahmin yapma\n",
    "y_pred = model.predict(X_test)\n",
    "\n",
    "# Model performansını değerlendirme\n",
    "r2_lr_train = model.score(X_train, y_train)\n",
    "r2_lr_test = model.score(X_test, y_test)\n",
    "mse_lr = mean_squared_error(y_test, y_pred)\n",
    "mae_lr = mean_absolute_error(y_test, y_pred)\n",
    "\n",
    "print(\"Linear Reg R2 (Eğitim):\", r2_lr_train)\n",
    "print(\"Linear Reg R2 (Test):\", r2_lr_test)\n",
    "print(\"Linear Reg MSE:\", mse_lr)\n",
    "print(\"Linear Ref MAE:\", mae_lr)\n",
    "\n",
    "# Modeli kaydetme\n",
    "from joblib import dump\n",
    "dump(model, 'linreg.joblib')"
   ]
  },
  {
   "cell_type": "code",
   "execution_count": 264,
   "id": "3ce2526b",
   "metadata": {},
   "outputs": [
    {
     "name": "stdout",
     "output_type": "stream",
     "text": [
      "Random Forest R2 (Eğitim): 0.9471259684323006\n",
      "Random Forest R2 (Test): 0.6885010252207056\n",
      "Random Forest MSE: 2079600745.8374896\n",
      "Random Forest MAE: 34927.73723559835\n"
     ]
    },
    {
     "data": {
      "text/plain": [
       "['ranforeg.joblib']"
      ]
     },
     "execution_count": 264,
     "metadata": {},
     "output_type": "execute_result"
    }
   ],
   "source": [
    "from sklearn.ensemble import RandomForestRegressor\n",
    "\n",
    "# Model oluşturma ve eğitme\n",
    "rf_model = RandomForestRegressor(random_state=42)\n",
    "rf_model.fit(X_train, y_train)\n",
    "\n",
    "# Tahmin yapma\n",
    "rf_y_pred = rf_model.predict(X_test)\n",
    "\n",
    "# Model performansını değerlendirme\n",
    "r2_rf_train = rf_model.score(X_train, y_train)\n",
    "r2_rf_test = rf_model.score(X_test, y_test)\n",
    "mse_rf = mean_squared_error(y_test, rf_y_pred)\n",
    "mae_rf = mean_absolute_error(y_test, rf_y_pred)\n",
    "print(\"Random Forest R2 (Eğitim):\", r2_rf_train)\n",
    "print(\"Random Forest R2 (Test):\", r2_rf_test)\n",
    "print(\"Random Forest MSE:\", mse_rf)\n",
    "print(\"Random Forest MAE:\", mae_rf)\n",
    "\n",
    "# Modeli kaydetme\n",
    "from joblib import dump\n",
    "dump(rf_model, 'ranforeg.joblib')"
   ]
  },
  {
   "cell_type": "code",
   "execution_count": 267,
   "id": "0fdb156f",
   "metadata": {},
   "outputs": [
    {
     "name": "stdout",
     "output_type": "stream",
     "text": [
      "Best SVM R2 (Eğitim): 0.8282833577431754\n",
      "Best SVM R2 (Test): 0.6168128949041145\n",
      "Best SVM MSE: 2558198434.255909\n",
      "Best SVM MAE: 37250.03980959696\n"
     ]
    },
    {
     "data": {
      "text/plain": [
       "['svmreg_best.joblib']"
      ]
     },
     "execution_count": 267,
     "metadata": {},
     "output_type": "execute_result"
    }
   ],
   "source": [
    "from sklearn.model_selection import GridSearchCV\n",
    "from sklearn.svm import SVR\n",
    "from sklearn.metrics import mean_squared_error, mean_absolute_error\n",
    "from joblib import dump\n",
    "\n",
    "# SVM için parametre ayarı yapma\n",
    "param_grid = {'C': [0.1, 1, 10, 100], 'gamma': [0.01, 0.1, 1, 10]}\n",
    "grid_search = GridSearchCV(SVR(kernel='poly'), param_grid, cv=3)\n",
    "grid_search.fit(X_train, y_train)\n",
    "\n",
    "# En iyi parametreleri ve modeli alıyoruz\n",
    "best_params = grid_search.best_params_\n",
    "best_svm_model = grid_search.best_estimator_\n",
    "\n",
    "# En iyi modeli orijinal veri ile tekrar eğitme\n",
    "best_svm_model.fit(X_train, y_train)\n",
    "\n",
    "# Tahmin yapma\n",
    "y_pred_svm_best = best_svm_model.predict(X_test)\n",
    "\n",
    "# Model performansını değerlendirme\n",
    "r2_svm_train_best = best_svm_model.score(X_train, y_train)\n",
    "r2_svm_test_best = best_svm_model.score(X_test, y_test)\n",
    "mse_svm_best = mean_squared_error(y_test, y_pred_svm_best)\n",
    "mae_svm_best = mean_absolute_error(y_test, y_pred_svm_best)\n",
    "\n",
    "print(\"Best SVM R2 (Eğitim):\", r2_svm_train_best)\n",
    "print(\"Best SVM R2 (Test):\", r2_svm_test_best)\n",
    "print(\"Best SVM MSE:\", mse_svm_best)\n",
    "print(\"Best SVM MAE:\", mae_svm_best)\n",
    "\n",
    "# Modeli kaydetme\n",
    "dump(best_svm_model, 'svmreg_best.joblib')"
   ]
  },
  {
   "cell_type": "code",
   "execution_count": 270,
   "id": "0c85411b",
   "metadata": {},
   "outputs": [
    {
     "name": "stdout",
     "output_type": "stream",
     "text": [
      "Yıl: 2012\n",
      "Kilometre: 217000\n",
      "Boya Durumu: 0\n",
      "Değişen Parça Durumu: 1\n",
      "Yakıt Tipi: Dizel\n",
      "Vites Tipi: Düz\n",
      "Araç Modeli: 1.3 Multijet Pop\n",
      "Renk: Beyaz\n"
     ]
    },
    {
     "ename": "ValueError",
     "evalue": "X has 77 features, but LinearRegression is expecting 74 features as input.",
     "output_type": "error",
     "traceback": [
      "\u001b[1;31m---------------------------------------------------------------------------\u001b[0m",
      "\u001b[1;31mValueError\u001b[0m                                Traceback (most recent call last)",
      "Cell \u001b[1;32mIn[270], line 43\u001b[0m\n\u001b[0;32m     40\u001b[0m     \u001b[38;5;28mprint\u001b[39m(\u001b[38;5;124m\"\u001b[39m\u001b[38;5;124mTahmini Fiyat: \u001b[39m\u001b[38;5;124m\"\u001b[39m, \u001b[38;5;28mint\u001b[39m(preds[\u001b[38;5;241m0\u001b[39m]))\n\u001b[0;32m     42\u001b[0m \u001b[38;5;66;03m# Tahmin fonksiyonunu çağırın\u001b[39;00m\n\u001b[1;32m---> 43\u001b[0m predict()\n",
      "Cell \u001b[1;32mIn[270], line 37\u001b[0m, in \u001b[0;36mpredict\u001b[1;34m()\u001b[0m\n\u001b[0;32m     34\u001b[0m X_pred_processed \u001b[38;5;241m=\u001b[39m preprocessor\u001b[38;5;241m.\u001b[39mtransform(myCar)\n\u001b[0;32m     36\u001b[0m \u001b[38;5;66;03m# Modeli kullanarak tahmin yap\u001b[39;00m\n\u001b[1;32m---> 37\u001b[0m preds \u001b[38;5;241m=\u001b[39m clf\u001b[38;5;241m.\u001b[39mpredict(X_pred_processed)\n\u001b[0;32m     39\u001b[0m \u001b[38;5;66;03m# Tahmin sonucunu yazdır\u001b[39;00m\n\u001b[0;32m     40\u001b[0m \u001b[38;5;28mprint\u001b[39m(\u001b[38;5;124m\"\u001b[39m\u001b[38;5;124mTahmini Fiyat: \u001b[39m\u001b[38;5;124m\"\u001b[39m, \u001b[38;5;28mint\u001b[39m(preds[\u001b[38;5;241m0\u001b[39m]))\n",
      "File \u001b[1;32mC:\\ProgramData\\anaconda3\\Lib\\site-packages\\sklearn\\linear_model\\_base.py:386\u001b[0m, in \u001b[0;36mLinearModel.predict\u001b[1;34m(self, X)\u001b[0m\n\u001b[0;32m    372\u001b[0m \u001b[38;5;28;01mdef\u001b[39;00m \u001b[38;5;21mpredict\u001b[39m(\u001b[38;5;28mself\u001b[39m, X):\n\u001b[0;32m    373\u001b[0m \u001b[38;5;250m    \u001b[39m\u001b[38;5;124;03m\"\"\"\u001b[39;00m\n\u001b[0;32m    374\u001b[0m \u001b[38;5;124;03m    Predict using the linear model.\u001b[39;00m\n\u001b[0;32m    375\u001b[0m \n\u001b[1;32m   (...)\u001b[0m\n\u001b[0;32m    384\u001b[0m \u001b[38;5;124;03m        Returns predicted values.\u001b[39;00m\n\u001b[0;32m    385\u001b[0m \u001b[38;5;124;03m    \"\"\"\u001b[39;00m\n\u001b[1;32m--> 386\u001b[0m     \u001b[38;5;28;01mreturn\u001b[39;00m \u001b[38;5;28mself\u001b[39m\u001b[38;5;241m.\u001b[39m_decision_function(X)\n",
      "File \u001b[1;32mC:\\ProgramData\\anaconda3\\Lib\\site-packages\\sklearn\\linear_model\\_base.py:369\u001b[0m, in \u001b[0;36mLinearModel._decision_function\u001b[1;34m(self, X)\u001b[0m\n\u001b[0;32m    366\u001b[0m \u001b[38;5;28;01mdef\u001b[39;00m \u001b[38;5;21m_decision_function\u001b[39m(\u001b[38;5;28mself\u001b[39m, X):\n\u001b[0;32m    367\u001b[0m     check_is_fitted(\u001b[38;5;28mself\u001b[39m)\n\u001b[1;32m--> 369\u001b[0m     X \u001b[38;5;241m=\u001b[39m \u001b[38;5;28mself\u001b[39m\u001b[38;5;241m.\u001b[39m_validate_data(X, accept_sparse\u001b[38;5;241m=\u001b[39m[\u001b[38;5;124m\"\u001b[39m\u001b[38;5;124mcsr\u001b[39m\u001b[38;5;124m\"\u001b[39m, \u001b[38;5;124m\"\u001b[39m\u001b[38;5;124mcsc\u001b[39m\u001b[38;5;124m\"\u001b[39m, \u001b[38;5;124m\"\u001b[39m\u001b[38;5;124mcoo\u001b[39m\u001b[38;5;124m\"\u001b[39m], reset\u001b[38;5;241m=\u001b[39m\u001b[38;5;28;01mFalse\u001b[39;00m)\n\u001b[0;32m    370\u001b[0m     \u001b[38;5;28;01mreturn\u001b[39;00m safe_sparse_dot(X, \u001b[38;5;28mself\u001b[39m\u001b[38;5;241m.\u001b[39mcoef_\u001b[38;5;241m.\u001b[39mT, dense_output\u001b[38;5;241m=\u001b[39m\u001b[38;5;28;01mTrue\u001b[39;00m) \u001b[38;5;241m+\u001b[39m \u001b[38;5;28mself\u001b[39m\u001b[38;5;241m.\u001b[39mintercept_\n",
      "File \u001b[1;32mC:\\ProgramData\\anaconda3\\Lib\\site-packages\\sklearn\\base.py:625\u001b[0m, in \u001b[0;36mBaseEstimator._validate_data\u001b[1;34m(self, X, y, reset, validate_separately, cast_to_ndarray, **check_params)\u001b[0m\n\u001b[0;32m    622\u001b[0m     out \u001b[38;5;241m=\u001b[39m X, y\n\u001b[0;32m    624\u001b[0m \u001b[38;5;28;01mif\u001b[39;00m \u001b[38;5;129;01mnot\u001b[39;00m no_val_X \u001b[38;5;129;01mand\u001b[39;00m check_params\u001b[38;5;241m.\u001b[39mget(\u001b[38;5;124m\"\u001b[39m\u001b[38;5;124mensure_2d\u001b[39m\u001b[38;5;124m\"\u001b[39m, \u001b[38;5;28;01mTrue\u001b[39;00m):\n\u001b[1;32m--> 625\u001b[0m     \u001b[38;5;28mself\u001b[39m\u001b[38;5;241m.\u001b[39m_check_n_features(X, reset\u001b[38;5;241m=\u001b[39mreset)\n\u001b[0;32m    627\u001b[0m \u001b[38;5;28;01mreturn\u001b[39;00m out\n",
      "File \u001b[1;32mC:\\ProgramData\\anaconda3\\Lib\\site-packages\\sklearn\\base.py:414\u001b[0m, in \u001b[0;36mBaseEstimator._check_n_features\u001b[1;34m(self, X, reset)\u001b[0m\n\u001b[0;32m    411\u001b[0m     \u001b[38;5;28;01mreturn\u001b[39;00m\n\u001b[0;32m    413\u001b[0m \u001b[38;5;28;01mif\u001b[39;00m n_features \u001b[38;5;241m!=\u001b[39m \u001b[38;5;28mself\u001b[39m\u001b[38;5;241m.\u001b[39mn_features_in_:\n\u001b[1;32m--> 414\u001b[0m     \u001b[38;5;28;01mraise\u001b[39;00m \u001b[38;5;167;01mValueError\u001b[39;00m(\n\u001b[0;32m    415\u001b[0m         \u001b[38;5;124mf\u001b[39m\u001b[38;5;124m\"\u001b[39m\u001b[38;5;124mX has \u001b[39m\u001b[38;5;132;01m{\u001b[39;00mn_features\u001b[38;5;132;01m}\u001b[39;00m\u001b[38;5;124m features, but \u001b[39m\u001b[38;5;132;01m{\u001b[39;00m\u001b[38;5;28mself\u001b[39m\u001b[38;5;241m.\u001b[39m\u001b[38;5;18m__class__\u001b[39m\u001b[38;5;241m.\u001b[39m\u001b[38;5;18m__name__\u001b[39m\u001b[38;5;132;01m}\u001b[39;00m\u001b[38;5;124m \u001b[39m\u001b[38;5;124m\"\u001b[39m\n\u001b[0;32m    416\u001b[0m         \u001b[38;5;124mf\u001b[39m\u001b[38;5;124m\"\u001b[39m\u001b[38;5;124mis expecting \u001b[39m\u001b[38;5;132;01m{\u001b[39;00m\u001b[38;5;28mself\u001b[39m\u001b[38;5;241m.\u001b[39mn_features_in_\u001b[38;5;132;01m}\u001b[39;00m\u001b[38;5;124m features as input.\u001b[39m\u001b[38;5;124m\"\u001b[39m\n\u001b[0;32m    417\u001b[0m     )\n",
      "\u001b[1;31mValueError\u001b[0m: X has 77 features, but LinearRegression is expecting 74 features as input."
     ]
    }
   ],
   "source": [
    "from joblib import load\n",
    "import pandas as pd\n",
    "\n",
    "# Modeli yükle\n",
    "modelName = 'linreg.joblib'\n",
    "#modelName = 'ranforeg.joblib'\n",
    "#modelName = 'svmreg.joblib'\n",
    "clf = load(modelName)\n",
    "\n",
    "def predict():\n",
    "    # Kullanıcı girdilerini al\n",
    "    year_value = int(input(\"Yıl: \"))\n",
    "    km_value = int(input(\"Kilometre: \"))\n",
    "    body_value = input(\"Boya Durumu: \")\n",
    "    changed_value = input(\"Değişen Parça Durumu: \")\n",
    "    gas_value = input(\"Yakıt Tipi: \")\n",
    "    gear_value = input(\"Vites Tipi: \")\n",
    "    model_value = input(\"Araç Modeli: \")\n",
    "    color_value = input(\"Renk: \")\n",
    "\n",
    "    # Kullanıcı girdilerinden bir DataFrame oluştur\n",
    "    myCar = pd.DataFrame({\n",
    "        'yil': [year_value],\n",
    "        'km': [km_value],\n",
    "        'boya': [body_value],\n",
    "        'Degisen': [changed_value],\n",
    "        'yakit': [gas_value],\n",
    "        'vites': [gear_value],\n",
    "        'model': [model_value],\n",
    "        'renk': [color_value]\n",
    "    })\n",
    "\n",
    "    # Özellikleri işleme\n",
    "    X_pred_processed = preprocessor.transform(myCar)\n",
    "\n",
    "    # Modeli kullanarak tahmin yap\n",
    "    preds = clf.predict(X_pred_processed)\n",
    "\n",
    "    # Tahmin sonucunu yazdır\n",
    "    print(\"Tahmini Fiyat: \", int(preds[0]))\n",
    "\n",
    "# Tahmin fonksiyonunu çağırın\n",
    "predict()"
   ]
  },
  {
   "cell_type": "code",
   "execution_count": null,
   "id": "503eb30e",
   "metadata": {},
   "outputs": [],
   "source": [
    "y_test_pred_lr = model.predict(X_test)\n",
    "y_test_pred_rf = rf_model.predict(X_test)\n",
    "\n",
    "# Tahmin edilen ve gerçek değerleri birleştirin\n",
    "result_df = pd.DataFrame({'Gerçek Değerler': y_test, 'Linear Regresyon Tahminleri': y_test_pred_lr, 'RFR Tahminleri': y_test_pred_rf})\n",
    "\n",
    "pd.set_option('display.max_rows', None)\n",
    "pd.set_option('display.max_columns', None)\n",
    "\n",
    "# DataFrame'i yazdırın\n",
    "print(result_df)\n",
    "\n",
    "# Ayarları geri alın\n",
    "pd.reset_option('display.max_rows')\n",
    "pd.reset_option('display.max_columns')"
   ]
  }
 ],
 "metadata": {
  "kernelspec": {
   "display_name": "Python 3 (ipykernel)",
   "language": "python",
   "name": "python3"
  },
  "language_info": {
   "codemirror_mode": {
    "name": "ipython",
    "version": 3
   },
   "file_extension": ".py",
   "mimetype": "text/x-python",
   "name": "python",
   "nbconvert_exporter": "python",
   "pygments_lexer": "ipython3",
   "version": "3.11.5"
  }
 },
 "nbformat": 4,
 "nbformat_minor": 5
}
